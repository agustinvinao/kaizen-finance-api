{
 "cells": [
  {
   "cell_type": "code",
   "execution_count": null,
   "metadata": {},
   "outputs": [],
   "source": [
    "from talib import abstract, get_function_groups\n",
    "import pandas as pd\n",
    "import yfinance as yf\n",
    "from datetime import datetime, timedelta"
   ]
  },
  {
   "cell_type": "code",
   "execution_count": null,
   "metadata": {},
   "outputs": [],
   "source": [
    "def load_data():\n",
    "  # Yfinance doesn't have great minute data\n",
    "  df = yf.download(\n",
    "          \"BTC-USD\", \n",
    "          start=start_time, \n",
    "          end=end_time,\n",
    "          interval=\"1d\")\n",
    "  df.rename(columns={'Open': 'open', 'High': 'high','Low': 'low','Close': 'close', 'Volume': 'volume'}, inplace= True)\n",
    "  return df"
   ]
  },
  {
   "cell_type": "code",
   "execution_count": null,
   "metadata": {},
   "outputs": [],
   "source": [
    "end_time = datetime.now()\n",
    "start_time = end_time - timedelta(days = 5)\n",
    "\n",
    "df = load_data()\n",
    "\n",
    "all_indicators = get_function_groups()['Pattern Recognition']\n",
    "for indicator in all_indicators:\n",
    "  df[str(indicator)] = getattr(abstract, indicator)(df)\n",
    "\n",
    "\n",
    "# set max columns to none\n",
    "pd.set_option(\"display.max_columns\", None)\n",
    "\n",
    "# set colwidth hidher\n",
    "pd.set_option('display.max_colwidth', 100)\n",
    "  \n",
    "# print(df, '\\n')\n",
    "print(df.iloc[-1], '\\n')"
   ]
  }
 ],
 "metadata": {
  "language_info": {
   "name": "python"
  }
 },
 "nbformat": 4,
 "nbformat_minor": 2
}
