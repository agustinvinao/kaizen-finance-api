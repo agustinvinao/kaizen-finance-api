{
 "cells": [
  {
   "cell_type": "code",
   "execution_count": 1,
   "metadata": {},
   "outputs": [],
   "source": [
    "# !pip3 install git+https://github.com/rongardF/tvdatafeed.git@e6f6aaa7de439ac6e454d9b26d2760ded8dc4923\n",
    "from tvDatafeed import TvDatafeed, Interval"
   ]
  },
  {
   "cell_type": "code",
   "execution_count": 2,
   "metadata": {},
   "outputs": [],
   "source": [
    "from helpers_db import get_engine, run_sql\n",
    "engine = get_engine()"
   ]
  },
  {
   "cell_type": "code",
   "execution_count": 3,
   "metadata": {},
   "outputs": [
    {
     "data": {
      "text/plain": [
       "[{'symbol': 'AAOI', 'exchange': 'NASDAQ', 'category': 'stock', 'bars_d': 1},\n",
       " {'symbol': 'AAPL', 'exchange': 'NASDAQ', 'category': 'stock', 'bars_d': 1},\n",
       " {'symbol': 'ALB', 'exchange': 'NYSE', 'category': 'stock', 'bars_d': 1},\n",
       " {'symbol': 'AMZN', 'exchange': 'NASDAQ', 'category': 'stock', 'bars_d': 1},\n",
       " {'symbol': 'BABA', 'exchange': 'NYSE', 'category': 'stock', 'bars_d': 1},\n",
       " {'symbol': 'CI', 'exchange': 'NYSE', 'category': 'stock', 'bars_d': 1},\n",
       " {'symbol': 'CLS', 'exchange': 'NYSE', 'category': 'stock', 'bars_d': 1},\n",
       " {'symbol': 'CRDF', 'exchange': 'NASDAQ', 'category': 'stock', 'bars_d': 1},\n",
       " {'symbol': 'CSCO', 'exchange': 'NASDAQ', 'category': 'stock', 'bars_d': 1},\n",
       " {'symbol': 'DBK', 'exchange': 'XETR', 'category': 'stock', 'bars_d': 1},\n",
       " {'symbol': 'ESEA', 'exchange': 'NASDAQ', 'category': 'stock', 'bars_d': 1},\n",
       " {'symbol': 'GCT', 'exchange': 'NASDAQ', 'category': 'stock', 'bars_d': 1},\n",
       " {'symbol': 'GOOG', 'exchange': 'NASDAQ', 'category': 'stock', 'bars_d': 1},\n",
       " {'symbol': 'INMD', 'exchange': 'NASDAQ', 'category': 'stock', 'bars_d': 1},\n",
       " {'symbol': 'JPM', 'exchange': 'NYSE', 'category': 'stock', 'bars_d': 1},\n",
       " {'symbol': 'KO', 'exchange': 'NYSE', 'category': 'stock', 'bars_d': 1},\n",
       " {'symbol': 'LQQ', 'exchange': 'EURONEXT', 'category': 'stock', 'bars_d': 1},\n",
       " {'symbol': 'META', 'exchange': 'NASDAQ', 'category': 'stock', 'bars_d': 1},\n",
       " {'symbol': 'MSFT', 'exchange': 'NASDAQ', 'category': 'stock', 'bars_d': 1},\n",
       " {'symbol': 'NKTX', 'exchange': 'NASDAQ', 'category': 'stock', 'bars_d': 1},\n",
       " {'symbol': 'NVDA', 'exchange': 'NASDAQ', 'category': 'stock', 'bars_d': 1},\n",
       " {'symbol': 'ON', 'exchange': 'NASDAQ', 'category': 'stock', 'bars_d': 1},\n",
       " {'symbol': 'PAYC', 'exchange': 'NYSE', 'category': 'stock', 'bars_d': 1},\n",
       " {'symbol': 'PYPL', 'exchange': 'NASDAQ', 'category': 'stock', 'bars_d': 1},\n",
       " {'symbol': 'SBUX', 'exchange': 'NASDAQ', 'category': 'stock', 'bars_d': 1},\n",
       " {'symbol': 'SEDG', 'exchange': 'NASDAQ', 'category': 'stock', 'bars_d': 1},\n",
       " {'symbol': 'T', 'exchange': 'NYSE', 'category': 'stock', 'bars_d': 1},\n",
       " {'symbol': 'WDAY', 'exchange': 'NASDAQ', 'category': 'stock', 'bars_d': 1},\n",
       " {'symbol': 'HEI', 'exchange': 'NYSE', 'category': 'stock', 'bars_d': 1},\n",
       " {'symbol': 'SURG', 'exchange': 'NASDAQ', 'category': 'stock', 'bars_d': 1},\n",
       " {'symbol': 'MSTR', 'exchange': 'NASDAQ', 'category': 'stock', 'bars_d': 1}]"
      ]
     },
     "execution_count": 3,
     "metadata": {},
     "output_type": "execute_result"
    }
   ],
   "source": [
    "from helpers_queries import queries\n",
    "assets = None\n",
    "with engine.begin() as conn:\n",
    "  assets = run_sql(conn, queries['list_assets_today']).mappings().all()\n",
    "assets"
   ]
  },
  {
   "cell_type": "code",
   "execution_count": 4,
   "metadata": {},
   "outputs": [
    {
     "name": "stderr",
     "output_type": "stream",
     "text": [
      "you are using nologin method, data you access may be limited\n"
     ]
    },
    {
     "name": "stdout",
     "output_type": "stream",
     "text": [
      "Processing NASDAQ:AAOI\n",
      "  count: 10\n",
      "Processing NASDAQ:AAPL\n",
      "  count: 10\n",
      "Processing NYSE:ALB\n",
      "  count: 10\n",
      "Processing NASDAQ:AMZN\n",
      "  count: 10\n",
      "Processing NYSE:BABA\n",
      "  count: 10\n",
      "Processing NYSE:CI\n",
      "  count: 10\n",
      "Processing NYSE:CLS\n",
      "  count: 10\n",
      "Processing NASDAQ:CRDF\n",
      "  count: 10\n",
      "Processing NASDAQ:CSCO\n",
      "  count: 10\n",
      "Processing XETR:DBK\n",
      "  count: 10\n",
      "Processing NASDAQ:ESEA\n",
      "  count: 10\n",
      "Processing NASDAQ:GCT\n",
      "  count: 10\n",
      "Processing NASDAQ:GOOG\n",
      "  count: 10\n",
      "Processing NASDAQ:INMD\n",
      "  count: 10\n",
      "Processing NYSE:JPM\n",
      "  count: 10\n",
      "Processing NYSE:KO\n",
      "  count: 10\n",
      "Processing EURONEXT:LQQ\n",
      "  count: 10\n",
      "Processing NASDAQ:META\n",
      "  count: 10\n",
      "Processing NASDAQ:MSFT\n",
      "  count: 10\n",
      "Processing NASDAQ:NKTX\n",
      "  count: 10\n",
      "Processing NASDAQ:NVDA\n",
      "  count: 10\n",
      "Processing NASDAQ:ON\n",
      "  count: 10\n",
      "Processing NYSE:PAYC\n",
      "  count: 10\n",
      "Processing NASDAQ:PYPL\n",
      "  count: 10\n",
      "Processing NASDAQ:SBUX\n",
      "  count: 10\n",
      "Processing NASDAQ:SEDG\n",
      "  count: 10\n",
      "Processing NYSE:T\n",
      "  count: 10\n",
      "Processing NASDAQ:WDAY\n",
      "  count: 10\n",
      "Processing NYSE:HEI\n",
      "  count: 10\n",
      "Processing NASDAQ:SURG\n",
      "  count: 10\n",
      "Processing NASDAQ:MSTR\n",
      "  count: 10\n"
     ]
    }
   ],
   "source": [
    "from helpers_db import postgres_upsert\n",
    "\n",
    "tv = TvDatafeed()\n",
    "\n",
    "def fetch_ticks(symbol, exchange, interval=Interval.in_daily, bars=100):\n",
    "  df = tv.get_hist(\n",
    "      symbol=symbol,\n",
    "      exchange=exchange,\n",
    "      interval=interval,\n",
    "      n_bars=bars,\n",
    "      extended_session=True,\n",
    "  )\n",
    "  return df\n",
    "\n",
    "def fix_symbol(eachange_symbol):\n",
    "  return eachange_symbol.split(':')[-1] if ':' in eachange_symbol else eachange_symbol\n",
    "\n",
    "def normalize_dataframe(df):\n",
    "  df.reset_index(inplace=True)\n",
    "  df['symbol'] = df['symbol'].apply(fix_symbol)\n",
    "  if 'datetime' in list(df.columns.values):\n",
    "    df['dt'] = df['datetime']\n",
    "    df.drop(columns=['datetime'], inplace=True)\n",
    "  return df\n",
    "\n",
    "for asset in assets:\n",
    "  symbol    = asset['symbol']\n",
    "  exchange  = asset['exchange']\n",
    "  bars      = 10\n",
    "  interval  = Interval.in_daily\n",
    "  print(f\"Processing {exchange}:{symbol}\")\n",
    "  print(f\"  count: {bars}\")\n",
    "  try:\n",
    "    df        = fetch_ticks(symbol=symbol, exchange=exchange, bars=bars, interval=interval)\n",
    "    df        = normalize_dataframe(df)\n",
    "    df.to_sql('ticks_1d', engine, if_exists='append', index=False, method=postgres_upsert)\n",
    "    \n",
    "  except Exception as e:\n",
    "    print(f\"Exception {exchange}:{symbol}\")\n",
    "    print(str(e))\n",
    "  # break\n"
   ]
  }
 ],
 "metadata": {
  "kernelspec": {
   "display_name": "base",
   "language": "python",
   "name": "python3"
  },
  "language_info": {
   "codemirror_mode": {
    "name": "ipython",
    "version": 3
   },
   "file_extension": ".py",
   "mimetype": "text/x-python",
   "name": "python",
   "nbconvert_exporter": "python",
   "pygments_lexer": "ipython3",
   "version": "3.10.6"
  }
 },
 "nbformat": 4,
 "nbformat_minor": 2
}
