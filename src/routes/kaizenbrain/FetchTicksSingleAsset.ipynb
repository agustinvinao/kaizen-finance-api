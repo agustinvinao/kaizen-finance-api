{
 "cells": [
  {
   "cell_type": "code",
   "execution_count": 1,
   "metadata": {},
   "outputs": [],
   "source": [
    "# !pip3 install git+https://github.com/rongardF/tvdatafeed.git@e6f6aaa7de439ac6e454d9b26d2760ded8dc4923\n",
    "from tvDatafeed import TvDatafeed, Interval\n",
    "from helpers_db import get_engine, run_sql\n",
    "engine = get_engine()"
   ]
  },
  {
   "cell_type": "code",
   "execution_count": 35,
   "metadata": {},
   "outputs": [
    {
     "name": "stderr",
     "output_type": "stream",
     "text": [
      "WARNING:tvDatafeed.main:you are using nologin method, data you access may be limited\n"
     ]
    }
   ],
   "source": [
    "from helpers_db import insert_on_conflict_nothing_ticks, truncate_table\n",
    "\n",
    "tv = TvDatafeed()\n",
    "\n",
    "def fetch_ticks(symbol, exchange, bars=10000):\n",
    "  df = tv.get_hist(\n",
    "      symbol=symbol,\n",
    "      exchange=exchange,\n",
    "      interval=Interval.in_1_hour,\n",
    "      n_bars=bars,\n",
    "      extended_session=True,\n",
    "  )\n",
    "  return df\n",
    "\n",
    "def fix_symbol(eachange_symbol):\n",
    "  return eachange_symbol.split(':')[-1] if ':' in eachange_symbol else eachange_symbol\n",
    "\n",
    "def normalize_dataframe(df):\n",
    "  df.reset_index(inplace=True)\n",
    "  df['symbol'] = df['symbol'].apply(fix_symbol)\n",
    "  if 'datetime' in list(df.columns.values):\n",
    "    df['dt'] = df['datetime']\n",
    "    df.drop(columns=['datetime'], inplace=True)\n",
    "  return df"
   ]
  },
  {
   "cell_type": "code",
   "execution_count": 52,
   "metadata": {},
   "outputs": [
    {
     "name": "stdout",
     "output_type": "stream",
     "text": [
      "Processing NASDAQ:SURG\n",
      "  count: 1235\n"
     ]
    }
   ],
   "source": [
    "asset     = {'symbol': 'SURG', 'exchange': 'NASDAQ'} #NYSE NASDAQ\n",
    "symbol    = asset['symbol']\n",
    "exchange  = asset['exchange']\n",
    "print(f\"Processing {exchange}:{symbol}\")\n",
    "try:\n",
    "  df = fetch_ticks(symbol, exchange)\n",
    "  print(f\"  count: {df.shape[0]}\")\n",
    "  df = normalize_dataframe(df)\n",
    "  df.to_sql('ticks', engine, if_exists='append', index=False, method=insert_on_conflict_nothing_ticks)\n",
    "except Exception as e:\n",
    "  print(f\"Exception {exchange}:{symbol}\")\n",
    "  print(str(e))"
   ]
  }
 ],
 "metadata": {
  "kernelspec": {
   "display_name": "base",
   "language": "python",
   "name": "python3"
  },
  "language_info": {
   "codemirror_mode": {
    "name": "ipython",
    "version": 3
   },
   "file_extension": ".py",
   "mimetype": "text/x-python",
   "name": "python",
   "nbconvert_exporter": "python",
   "pygments_lexer": "ipython3",
   "version": "3.10.6"
  }
 },
 "nbformat": 4,
 "nbformat_minor": 2
}
