{
 "cells": [
  {
   "cell_type": "code",
   "execution_count": 23,
   "metadata": {},
   "outputs": [],
   "source": [
    "# !pip3 install git+https://github.com/rongardF/tvdatafeed.git@e6f6aaa7de439ac6e454d9b26d2760ded8dc4923\n",
    "from tvDatafeed import TvDatafeed, Interval"
   ]
  },
  {
   "cell_type": "code",
   "execution_count": 24,
   "metadata": {},
   "outputs": [],
   "source": [
    "from helpers_db import get_engine, run_sql\n",
    "engine = get_engine()"
   ]
  },
  {
   "cell_type": "code",
   "execution_count": 36,
   "metadata": {},
   "outputs": [
    {
     "data": {
      "text/plain": [
       "[{'symbol': 'DBK', 'exchange': 'XETR', 'datediff': datetime.timedelta(seconds=3600)},\n",
       " {'symbol': 'INMD', 'exchange': 'NASDAQ', 'datediff': datetime.timedelta(seconds=14400)},\n",
       " {'symbol': 'CI', 'exchange': 'NYSE', 'datediff': datetime.timedelta(seconds=3600)},\n",
       " {'symbol': 'ESEA', 'exchange': 'NASDAQ', 'datediff': datetime.timedelta(seconds=61200)},\n",
       " {'symbol': 'GCT', 'exchange': 'NASDAQ', 'datediff': datetime.timedelta(seconds=14400)},\n",
       " {'symbol': 'NKTX', 'exchange': 'NASDAQ', 'datediff': datetime.timedelta(seconds=3600)},\n",
       " {'symbol': 'GOOG', 'exchange': 'NASDAQ', 'datediff': datetime.timedelta(seconds=10800)},\n",
       " {'symbol': 'LQQ', 'exchange': 'EURONEXT', 'datediff': datetime.timedelta(seconds=3600)},\n",
       " {'symbol': 'AAOI', 'exchange': 'NASDAQ', 'datediff': datetime.timedelta(seconds=3600)},\n",
       " {'symbol': 'HEI', 'exchange': 'NYSE', 'datediff': datetime.timedelta(seconds=57600)},\n",
       " {'symbol': 'JPM', 'exchange': 'NYSE', 'datediff': datetime.timedelta(seconds=10800)},\n",
       " {'symbol': 'CSCO', 'exchange': 'NASDAQ', 'datediff': datetime.timedelta(seconds=3600)},\n",
       " {'symbol': 'CLS', 'exchange': 'NYSE', 'datediff': datetime.timedelta(seconds=3600)},\n",
       " {'symbol': 'CRDF', 'exchange': 'NASDAQ', 'datediff': datetime.timedelta(seconds=7200)},\n",
       " {'symbol': 'AMZN', 'exchange': 'NASDAQ', 'datediff': datetime.timedelta(seconds=10800)},\n",
       " {'symbol': 'ON', 'exchange': 'NASDAQ', 'datediff': datetime.timedelta(seconds=10800)},\n",
       " {'symbol': 'SEDG', 'exchange': 'NASDAQ', 'datediff': datetime.timedelta(seconds=14400)},\n",
       " {'symbol': 'SURG', 'exchange': 'NASDAQ', 'datediff': datetime.timedelta(seconds=54000)},\n",
       " {'symbol': 'WDAY', 'exchange': 'NASDAQ', 'datediff': datetime.timedelta(seconds=3600)}]"
      ]
     },
     "execution_count": 36,
     "metadata": {},
     "output_type": "execute_result"
    }
   ],
   "source": [
    "# queries\n",
    "query_today = \"\"\"SELECT s.symbol as symbol, s.exchange as exchange\n",
    "                 FROM securities s INNER JOIN positions p ON s.symbol = p.symbol\n",
    "                 WHERE p.quote_last_quote_at < CURRENT_DATE AND s.category='stock'\"\"\"\n",
    "query_last_hour = \"\"\"SELECT s.symbol, s.exchange, DATE_TRUNC('hour', now()) - quote_last_quote_at AS datediff\n",
    "                     FROM securities s INNER JOIN positions p ON s.symbol = p.symbol\n",
    "                     WHERE quote_last_quote_at < DATE_TRUNC('hour', now())\n",
    "\"\"\"\n",
    "securities = None\n",
    "with engine.begin() as conn:\n",
    "  #  SELECT symbol, exchange FROM securities WHERE category='stock'\n",
    "  securities = run_sql(conn, query_last_hour).mappings().all()\n",
    "securities"
   ]
  },
  {
   "cell_type": "code",
   "execution_count": 37,
   "metadata": {},
   "outputs": [
    {
     "name": "stderr",
     "output_type": "stream",
     "text": [
      "WARNING:tvDatafeed.main:you are using nologin method, data you access may be limited\n"
     ]
    },
    {
     "name": "stdout",
     "output_type": "stream",
     "text": [
      "Processing XETR:DBK\n",
      "  count: 168\n",
      "Processing NASDAQ:INMD\n",
      "  count: 168\n",
      "Processing NYSE:CI\n",
      "  count: 168\n",
      "Processing NASDAQ:ESEA\n",
      "  count: 168\n",
      "Processing NASDAQ:GCT\n",
      "  count: 168\n",
      "Processing NASDAQ:NKTX\n",
      "  count: 168\n",
      "Processing NASDAQ:GOOG\n",
      "  count: 168\n",
      "Processing EURONEXT:LQQ\n",
      "  count: 168\n",
      "Processing NASDAQ:AAOI\n",
      "  count: 168\n",
      "Processing NYSE:HEI\n",
      "  count: 168\n",
      "Processing NYSE:JPM\n",
      "  count: 168\n",
      "Processing NASDAQ:CSCO\n",
      "  count: 168\n",
      "Processing NYSE:CLS\n",
      "  count: 168\n",
      "Processing NASDAQ:CRDF\n",
      "  count: 168\n",
      "Processing NASDAQ:AMZN\n",
      "  count: 168\n",
      "Processing NASDAQ:ON\n",
      "  count: 168\n",
      "Processing NASDAQ:SEDG\n",
      "  count: 168\n",
      "Processing NASDAQ:SURG\n",
      "  count: 168\n",
      "Processing NASDAQ:WDAY\n",
      "  count: 168\n"
     ]
    }
   ],
   "source": [
    "from helpers_db import insert_on_conflict_nothing_ticks, truncate_table\n",
    "\n",
    "tv = TvDatafeed()\n",
    "\n",
    "def fetch_ticks(symbol, exchange, bars=100):\n",
    "  df = tv.get_hist(\n",
    "      symbol=symbol,\n",
    "      exchange=exchange,\n",
    "      interval=Interval.in_1_hour,\n",
    "      n_bars=bars,\n",
    "      extended_session=True,\n",
    "  )\n",
    "  return df\n",
    "\n",
    "def fix_symbol(eachange_symbol):\n",
    "  return eachange_symbol.split(':')[-1] if ':' in eachange_symbol else eachange_symbol\n",
    "\n",
    "def normalize_dataframe(df):\n",
    "  df.reset_index(inplace=True)\n",
    "  df['symbol'] = df['symbol'].apply(fix_symbol)\n",
    "  if 'datetime' in list(df.columns.values):\n",
    "    df['dt'] = df['datetime']\n",
    "    df.drop(columns=['datetime'], inplace=True)\n",
    "  return df\n",
    "\n",
    "# with engine.begin() as conn:\n",
    "#   truncate_table(conn, 'ticks')\n",
    "\n",
    "for security in securities:\n",
    "  symbol    = security['symbol']\n",
    "  exchange  = security['exchange']\n",
    "  print(f\"Processing {exchange}:{symbol}\")\n",
    "  try:\n",
    "    df = fetch_ticks(symbol, exchange, bars=7*24)\n",
    "    print(f\"  count: {df.shape[0]}\")\n",
    "    df = normalize_dataframe(df)\n",
    "    df.to_sql('ticks', engine, if_exists='append', index=False, method=insert_on_conflict_nothing_ticks)\n",
    "  except Exception as e:\n",
    "    print(f\"Exception {exchange}:{symbol}\")\n",
    "    print(str(e))\n"
   ]
  }
 ],
 "metadata": {
  "kernelspec": {
   "display_name": "base",
   "language": "python",
   "name": "python3"
  },
  "language_info": {
   "codemirror_mode": {
    "name": "ipython",
    "version": 3
   },
   "file_extension": ".py",
   "mimetype": "text/x-python",
   "name": "python",
   "nbconvert_exporter": "python",
   "pygments_lexer": "ipython3",
   "version": "3.10.6"
  }
 },
 "nbformat": 4,
 "nbformat_minor": 2
}
