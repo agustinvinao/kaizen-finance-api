{
 "cells": [
  {
   "cell_type": "code",
   "execution_count": 7,
   "metadata": {},
   "outputs": [],
   "source": [
    "# !pip3 install git+https://github.com/rongardF/tvdatafeed.git@e6f6aaa7de439ac6e454d9b26d2760ded8dc4923\n",
    "from tvDatafeed import TvDatafeed, Interval"
   ]
  },
  {
   "cell_type": "code",
   "execution_count": 8,
   "metadata": {},
   "outputs": [],
   "source": [
    "from helpers_db import get_engine, run_sql\n",
    "engine = get_engine()"
   ]
  },
  {
   "cell_type": "code",
   "execution_count": 16,
   "metadata": {},
   "outputs": [
    {
     "data": {
      "text/plain": [
       "[{'symbol': 'AAOI', 'exchange': 'NASDAQ', 'bars_w': 200, 'bars_d': 1332},\n",
       " {'symbol': 'AAPL', 'exchange': 'NASDAQ', 'bars_w': 126, 'bars_d': 814},\n",
       " {'symbol': 'ALB', 'exchange': 'NYSE', 'bars_w': 219, 'bars_d': 1465},\n",
       " {'symbol': 'AMZN', 'exchange': 'NASDAQ', 'bars_w': 94, 'bars_d': 590},\n",
       " {'symbol': 'BABA', 'exchange': 'NYSE', 'bars_w': 100, 'bars_d': 631},\n",
       " {'symbol': 'CI', 'exchange': 'NYSE', 'bars_w': 131, 'bars_d': 849},\n",
       " {'symbol': 'CLS', 'exchange': 'NYSE', 'bars_w': 221, 'bars_d': 1479},\n",
       " {'symbol': 'CRDF', 'exchange': 'NASDAQ', 'bars_w': 48, 'bars_d': 268},\n",
       " {'symbol': 'CSCO', 'exchange': 'NASDAQ', 'bars_w': 220, 'bars_d': 1472},\n",
       " {'symbol': 'DBK', 'exchange': 'XETR', 'bars_w': 121, 'bars_d': 779},\n",
       " {'symbol': 'ESEA', 'exchange': 'NASDAQ', 'bars_w': 141, 'bars_d': 919},\n",
       " {'symbol': 'GCT', 'exchange': 'NASDAQ', 'bars_w': 93, 'bars_d': 583},\n",
       " {'symbol': 'GOOG', 'exchange': 'NASDAQ', 'bars_w': 122, 'bars_d': 786},\n",
       " {'symbol': 'INMD', 'exchange': 'NASDAQ', 'bars_w': 237, 'bars_d': 1591},\n",
       " {'symbol': 'JPM', 'exchange': 'NYSE', 'bars_w': 136, 'bars_d': 884},\n",
       " {'symbol': 'KO', 'exchange': 'NYSE', 'bars_w': 110, 'bars_d': 702},\n",
       " {'symbol': 'LQQ', 'exchange': 'EURONEXT', 'bars_w': 132, 'bars_d': 856},\n",
       " {'symbol': 'META', 'exchange': 'NASDAQ', 'bars_w': 220, 'bars_d': 1472},\n",
       " {'symbol': 'MSFT', 'exchange': 'NASDAQ', 'bars_w': 132, 'bars_d': 856},\n",
       " {'symbol': 'NKTX', 'exchange': 'NASDAQ', 'bars_w': 112, 'bars_d': 712},\n",
       " {'symbol': 'NVDA', 'exchange': 'NASDAQ', 'bars_w': 132, 'bars_d': 856},\n",
       " {'symbol': 'ON', 'exchange': 'NASDAQ', 'bars_w': 126, 'bars_d': 814},\n",
       " {'symbol': 'PAYC', 'exchange': 'NYSE', 'bars_w': 135, 'bars_d': 877},\n",
       " {'symbol': 'PYPL', 'exchange': 'NASDAQ', 'bars_w': 94, 'bars_d': 590},\n",
       " {'symbol': 'SBUX', 'exchange': 'NASDAQ', 'bars_w': 150, 'bars_d': 982},\n",
       " {'symbol': 'SEDG', 'exchange': 'NASDAQ', 'bars_w': 132, 'bars_d': 856},\n",
       " {'symbol': 'T', 'exchange': 'NYSE', 'bars_w': 237, 'bars_d': 1591},\n",
       " {'symbol': 'WDAY', 'exchange': 'NASDAQ', 'bars_w': 133, 'bars_d': 863},\n",
       " {'symbol': 'HEI', 'exchange': 'NYSE', 'bars_w': 143, 'bars_d': 932},\n",
       " {'symbol': 'SURG', 'exchange': 'NASDAQ', 'bars_w': 125, 'bars_d': 807}]"
      ]
     },
     "execution_count": 16,
     "metadata": {},
     "output_type": "execute_result"
    }
   ],
   "source": [
    "from helpers_queries import queries\n",
    "assets = None\n",
    "with engine.begin() as conn:\n",
    "  assets = run_sql(conn, queries['list_assets_longterm_bars']).mappings().all()\n",
    "assets"
   ]
  },
  {
   "cell_type": "code",
   "execution_count": 17,
   "metadata": {},
   "outputs": [
    {
     "name": "stderr",
     "output_type": "stream",
     "text": [
      "WARNING:tvDatafeed.main:you are using nologin method, data you access may be limited\n"
     ]
    },
    {
     "name": "stdout",
     "output_type": "stream",
     "text": [
      "Processing NASDAQ:AAOI\n",
      "  count: 200\n",
      "Processing NASDAQ:AAPL\n",
      "  count: 126\n",
      "Processing NYSE:ALB\n",
      "  count: 219\n",
      "Processing NASDAQ:AMZN\n",
      "  count: 94\n",
      "Processing NYSE:BABA\n",
      "  count: 100\n",
      "Processing NYSE:CI\n",
      "  count: 131\n",
      "Processing NYSE:CLS\n",
      "  count: 221\n",
      "Processing NASDAQ:CRDF\n",
      "  count: 48\n",
      "Processing NASDAQ:CSCO\n",
      "  count: 220\n",
      "Processing XETR:DBK\n",
      "  count: 121\n",
      "Processing NASDAQ:ESEA\n",
      "  count: 141\n",
      "Processing NASDAQ:GCT\n",
      "  count: 85\n",
      "Processing NASDAQ:GOOG\n",
      "  count: 122\n",
      "Processing NASDAQ:INMD\n",
      "  count: 237\n",
      "Processing NYSE:JPM\n",
      "  count: 136\n",
      "Processing NYSE:KO\n",
      "  count: 110\n",
      "Processing EURONEXT:LQQ\n",
      "  count: 132\n",
      "Processing NASDAQ:META\n",
      "  count: 220\n",
      "Processing NASDAQ:MSFT\n",
      "  count: 132\n",
      "Processing NASDAQ:NKTX\n",
      "  count: 112\n",
      "Processing NASDAQ:NVDA\n",
      "  count: 132\n",
      "Processing NASDAQ:ON\n",
      "  count: 126\n",
      "Processing NYSE:PAYC\n",
      "  count: 135\n",
      "Processing NASDAQ:PYPL\n",
      "  count: 94\n",
      "Processing NASDAQ:SBUX\n",
      "  count: 150\n",
      "Processing NASDAQ:SEDG\n",
      "  count: 132\n",
      "Processing NYSE:T\n",
      "  count: 237\n",
      "Processing NASDAQ:WDAY\n",
      "  count: 133\n",
      "Processing NYSE:HEI\n",
      "  count: 143\n",
      "Processing NASDAQ:SURG\n",
      "  count: 125\n"
     ]
    }
   ],
   "source": [
    "from helpers_db import insert_on_conflict_nothing_ticks, truncate_table\n",
    "\n",
    "tv = TvDatafeed()\n",
    "\n",
    "def fetch_ticks(symbol, exchange, interval=Interval.in_daily, bars=100):\n",
    "  df = tv.get_hist(\n",
    "      symbol=symbol,\n",
    "      exchange=exchange,\n",
    "      interval=interval,\n",
    "      n_bars=bars,\n",
    "      extended_session=True,\n",
    "  )\n",
    "  return df\n",
    "\n",
    "def fix_symbol(eachange_symbol):\n",
    "  return eachange_symbol.split(':')[-1] if ':' in eachange_symbol else eachange_symbol\n",
    "\n",
    "def normalize_dataframe(df):\n",
    "  df.reset_index(inplace=True)\n",
    "  df['symbol'] = df['symbol'].apply(fix_symbol)\n",
    "  if 'datetime' in list(df.columns.values):\n",
    "    df['dt'] = df['datetime']\n",
    "    df.drop(columns=['datetime'], inplace=True)\n",
    "  return df\n",
    "\n",
    "for asset in assets:\n",
    "  symbol    = asset['symbol']\n",
    "  exchange  = asset['exchange']\n",
    "  print(f\"Processing {exchange}:{symbol}\")\n",
    "  try:\n",
    "    bars      = asset['bars_d']\n",
    "    interval  = Interval.in_daily\n",
    "    df        = fetch_ticks(symbol=symbol, exchange=exchange, bars=bars, interval=interval) # 7*24\n",
    "    df        = normalize_dataframe(df)\n",
    "    df.to_sql('ticks_1d', engine, if_exists='append', index=False, method=insert_on_conflict_nothing_ticks)\n",
    "    # df.to_sql('ticks_1w', engine, if_exists='append', index=False, method=insert_on_conflict_nothing_ticks)\n",
    "    print(f\"  count: {df.shape[0]}\")\n",
    "  except Exception as e:\n",
    "    print(f\"Exception {exchange}:{symbol}\")\n",
    "    print(str(e))\n"
   ]
  }
 ],
 "metadata": {
  "kernelspec": {
   "display_name": "base",
   "language": "python",
   "name": "python3"
  },
  "language_info": {
   "codemirror_mode": {
    "name": "ipython",
    "version": 3
   },
   "file_extension": ".py",
   "mimetype": "text/x-python",
   "name": "python",
   "nbconvert_exporter": "python",
   "pygments_lexer": "ipython3",
   "version": "3.10.6"
  }
 },
 "nbformat": 4,
 "nbformat_minor": 2
}
