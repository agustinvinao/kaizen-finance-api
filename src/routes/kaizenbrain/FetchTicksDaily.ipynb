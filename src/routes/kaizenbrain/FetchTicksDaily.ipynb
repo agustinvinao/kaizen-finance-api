{
 "cells": [
  {
   "cell_type": "code",
   "execution_count": 1,
   "metadata": {},
   "outputs": [],
   "source": [
    "# !pip3 install git+https://github.com/rongardF/tvdatafeed.git@e6f6aaa7de439ac6e454d9b26d2760ded8dc4923\n",
    "\n",
    "from tvDatafeed import TvDatafeed, Interval"
   ]
  },
  {
   "cell_type": "code",
   "execution_count": 2,
   "metadata": {},
   "outputs": [],
   "source": [
    "from helpers_db import get_engine, run_sql\n",
    "engine = get_engine()"
   ]
  },
  {
   "cell_type": "code",
   "execution_count": 3,
   "metadata": {},
   "outputs": [
    {
     "data": {
      "text/plain": [
       "[{'symbol': 'AAOI', 'exchange': 'NASDAQ', 'count': 171},\n",
       " {'symbol': 'AAPL', 'exchange': 'NASDAQ', 'count': 171},\n",
       " {'symbol': 'ADP', 'exchange': 'NASDAQ', 'count': 171},\n",
       " {'symbol': 'ALB', 'exchange': 'NYSE', 'count': 171},\n",
       " {'symbol': 'AMZN', 'exchange': 'NASDAQ', 'count': 171},\n",
       " {'symbol': 'BABA', 'exchange': 'NYSE', 'count': 171},\n",
       " {'symbol': 'CI', 'exchange': 'NYSE', 'count': 171},\n",
       " {'symbol': 'CLS', 'exchange': 'NYSE', 'count': 171},\n",
       " {'symbol': 'CRDF', 'exchange': 'NASDAQ', 'count': 171},\n",
       " {'symbol': 'CSCO', 'exchange': 'NASDAQ', 'count': 171},\n",
       " {'symbol': 'CVNA', 'exchange': 'NYSE', 'count': 171},\n",
       " {'symbol': 'DBK', 'exchange': 'XETR', 'count': 170},\n",
       " {'symbol': 'ESEA', 'exchange': 'NASDAQ', 'count': 171},\n",
       " {'symbol': 'EUR.USD', 'exchange': 'NASDAQ', 'count': 0},\n",
       " {'symbol': 'GCT', 'exchange': 'NASDAQ', 'count': 171},\n",
       " {'symbol': 'GOOG', 'exchange': 'NASDAQ', 'count': 171},\n",
       " {'symbol': 'HEI', 'exchange': 'NYSE', 'count': 171},\n",
       " {'symbol': 'INMD', 'exchange': 'NASDAQ', 'count': 171},\n",
       " {'symbol': 'JPM', 'exchange': 'NYSE', 'count': 171},\n",
       " {'symbol': 'KO', 'exchange': 'NYSE', 'count': 171},\n",
       " {'symbol': 'LQQ', 'exchange': 'EURONEXT', 'count': 170},\n",
       " {'symbol': 'META', 'exchange': 'NASDAQ', 'count': 171},\n",
       " {'symbol': 'MSFT', 'exchange': 'NASDAQ', 'count': 171},\n",
       " {'symbol': 'MSTR', 'exchange': 'NASDAQ', 'count': 171},\n",
       " {'symbol': 'NKTX', 'exchange': 'NASDAQ', 'count': 171},\n",
       " {'symbol': 'NVDA', 'exchange': 'NASDAQ', 'count': 171},\n",
       " {'symbol': 'ON', 'exchange': 'NASDAQ', 'count': 171},\n",
       " {'symbol': 'PAYC', 'exchange': 'NYSE', 'count': 171},\n",
       " {'symbol': 'PYPL', 'exchange': 'NASDAQ', 'count': 171},\n",
       " {'symbol': 'SBUX', 'exchange': 'NASDAQ', 'count': 171},\n",
       " {'symbol': 'SEDG', 'exchange': 'NASDAQ', 'count': 171},\n",
       " {'symbol': 'SURG', 'exchange': 'NASDAQ', 'count': 171},\n",
       " {'symbol': 'T', 'exchange': 'NYSE', 'count': 171},\n",
       " {'symbol': 'WDAY', 'exchange': 'NASDAQ', 'count': 171}]"
      ]
     },
     "execution_count": 3,
     "metadata": {},
     "output_type": "execute_result"
    }
   ],
   "source": [
    "# queries\n",
    "query_last_day = \"\"\"SELECT DISTINCT a.symbol, a.exchange, count(t.dt)\n",
    "                    FROM assets a LEFT JOIN daily_ticks t ON a.symbol = t.symbol\n",
    "                    WHERE category = 'stock'\n",
    "                    \n",
    "                    GROUP BY a.symbol, a.exchange\"\"\"\n",
    "                    # HAVING count(t.dt) = 0\"\"\"\n",
    "                    # WHERE t.dt < (DATE_TRUNC('day', now()) - '1 day'::interval)\n",
    "                    #  WHERE a.category = 'stock'\n",
    "assets = None\n",
    "with engine.begin() as conn:\n",
    "  #  SELECT symbol, exchange FROM assets WHERE category='stock'\n",
    "  assets = run_sql(conn, query_last_day).mappings().all()\n",
    "# securities['symbol']\n",
    "assets"
   ]
  },
  {
   "cell_type": "code",
   "execution_count": 4,
   "metadata": {},
   "outputs": [
    {
     "name": "stderr",
     "output_type": "stream",
     "text": [
      "you are using nologin method, data you access may be limited\n"
     ]
    },
    {
     "name": "stdout",
     "output_type": "stream",
     "text": [
      "Processing NASDAQ:AAOI\n",
      "  count: 168\n",
      "Processing NASDAQ:AAPL\n",
      "  count: 168\n",
      "Processing NASDAQ:ADP\n",
      "  count: 168\n",
      "Processing NYSE:ALB\n",
      "  count: 168\n",
      "Processing NASDAQ:AMZN\n",
      "  count: 168\n",
      "Processing NYSE:BABA\n",
      "  count: 168\n",
      "Processing NYSE:CI\n",
      "  count: 168\n",
      "Processing NYSE:CLS\n",
      "  count: 168\n",
      "Processing NASDAQ:CRDF\n",
      "  count: 168\n",
      "Processing NASDAQ:CSCO\n",
      "  count: 168\n",
      "Processing NYSE:CVNA\n",
      "  count: 168\n",
      "Processing XETR:DBK\n",
      "  count: 168\n",
      "Processing NASDAQ:ESEA\n",
      "  count: 168\n",
      "Processing NASDAQ:EUR.USD\n"
     ]
    },
    {
     "name": "stderr",
     "output_type": "stream",
     "text": [
      "ERROR:tvDatafeed.main:Connection timed out\n",
      "ERROR:tvDatafeed.main:no data, please check the exchange and symbol\n"
     ]
    },
    {
     "name": "stdout",
     "output_type": "stream",
     "text": [
      "Exception NASDAQ:EUR.USD\n",
      "'NoneType' object has no attribute 'shape'\n",
      "Processing NASDAQ:GCT\n",
      "  count: 168\n",
      "Processing NASDAQ:GOOG\n",
      "  count: 168\n",
      "Processing NYSE:HEI\n",
      "  count: 168\n",
      "Processing NASDAQ:INMD\n",
      "  count: 168\n",
      "Processing NYSE:JPM\n",
      "  count: 168\n",
      "Processing NYSE:KO\n",
      "  count: 168\n",
      "Processing EURONEXT:LQQ\n",
      "  count: 168\n",
      "Processing NASDAQ:META\n",
      "  count: 168\n",
      "Processing NASDAQ:MSFT\n",
      "  count: 168\n",
      "Processing NASDAQ:MSTR\n",
      "  count: 168\n",
      "Processing NASDAQ:NKTX\n",
      "  count: 168\n",
      "Processing NASDAQ:NVDA\n",
      "  count: 168\n",
      "Processing NASDAQ:ON\n",
      "  count: 168\n",
      "Processing NYSE:PAYC\n",
      "  count: 168\n",
      "Processing NASDAQ:PYPL\n",
      "  count: 168\n",
      "Processing NASDAQ:SBUX\n",
      "  count: 168\n",
      "Processing NASDAQ:SEDG\n",
      "  count: 168\n",
      "Processing NASDAQ:SURG\n",
      "  count: 168\n",
      "Processing NYSE:T\n",
      "  count: 168\n",
      "Processing NASDAQ:WDAY\n"
     ]
    },
    {
     "name": "stderr",
     "output_type": "stream",
     "text": [
      "ERROR:tvDatafeed.main:Connection to remote host was lost.\n",
      "ERROR:tvDatafeed.main:no data, please check the exchange and symbol\n"
     ]
    },
    {
     "name": "stdout",
     "output_type": "stream",
     "text": [
      "Exception NASDAQ:WDAY\n",
      "'NoneType' object has no attribute 'shape'\n"
     ]
    }
   ],
   "source": [
    "from helpers_db import insert_on_conflict_nothing_ticks, truncate_table\n",
    "\n",
    "tv = TvDatafeed()\n",
    "\n",
    "def fetch_ticks(symbol, exchange, bars=100):\n",
    "  df = tv.get_hist(\n",
    "      symbol=symbol,\n",
    "      exchange=exchange,\n",
    "      interval=Interval.in_daily,\n",
    "      n_bars=bars,\n",
    "      extended_session=True,\n",
    "  )\n",
    "  return df\n",
    "\n",
    "def fix_symbol(eachange_symbol):\n",
    "  return eachange_symbol.split(':')[-1] if ':' in eachange_symbol else eachange_symbol\n",
    "\n",
    "def normalize_dataframe(df):\n",
    "  df.reset_index(inplace=True)\n",
    "  df['symbol'] = df['symbol'].apply(fix_symbol)\n",
    "  if 'datetime' in list(df.columns.values):\n",
    "    df['dt'] = df['datetime']\n",
    "    df.drop(columns=['datetime'], inplace=True)\n",
    "  return df\n",
    "\n",
    "# with engine.begin() as conn:\n",
    "#   truncate_table(conn, 'ticks')\n",
    "\n",
    "for asset in assets:\n",
    "  symbol    = asset['symbol']\n",
    "  exchange  = asset['exchange']\n",
    "  print(f\"Processing {exchange}:{symbol}\")\n",
    "  try:\n",
    "    df = fetch_ticks(symbol, exchange, bars=7*24) # 7*24\n",
    "    print(f\"  count: {df.shape[0]}\")\n",
    "    df = normalize_dataframe(df)\n",
    "    df.to_sql('daily_ticks', engine, if_exists='append', index=False, method=insert_on_conflict_nothing_ticks)\n",
    "  except Exception as e:\n",
    "    print(f\"Exception {exchange}:{symbol}\")\n",
    "    print(str(e))\n"
   ]
  }
 ],
 "metadata": {
  "kernelspec": {
   "display_name": "base",
   "language": "python",
   "name": "python3"
  },
  "language_info": {
   "codemirror_mode": {
    "name": "ipython",
    "version": 3
   },
   "file_extension": ".py",
   "mimetype": "text/x-python",
   "name": "python",
   "nbconvert_exporter": "python",
   "pygments_lexer": "ipython3",
   "version": "3.11.7"
  }
 },
 "nbformat": 4,
 "nbformat_minor": 2
}
