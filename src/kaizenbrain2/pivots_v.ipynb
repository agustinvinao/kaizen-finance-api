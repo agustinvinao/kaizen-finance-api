{
 "cells": [
  {
   "cell_type": "code",
   "execution_count": null,
   "metadata": {},
   "outputs": [],
   "source": [
    "# !pip install \n"
   ]
  },
  {
   "cell_type": "code",
   "execution_count": null,
   "metadata": {},
   "outputs": [],
   "source": [
    "import numpy as np\n",
    "import pandas as pd\n",
    "# from finta import TA\n",
    "# from typing import Union\n"
   ]
  },
  {
   "cell_type": "code",
   "execution_count": null,
   "metadata": {},
   "outputs": [],
   "source": [
    "from  helpers_db import get_engine, run_sql\n",
    "engine = get_engine()\n",
    "ticker = \"PYPL\"\n",
    "with engine.begin() as conn:\n",
    "  data = run_sql(conn, f\"SELECT * FROM ticks_1w WHERE symbol='{ticker}' AND dt::date >= '2024-01-01' ORDER BY dt\")\n",
    "  df = pd.DataFrame(data)\n",
    "  df.rename(columns={\"open\": \"Open\", \"close\": \"Close\", \"high\": \"High\", \"low\": \"Low\"}, inplace=True)\n",
    "  df.set_index(\"dt\", inplace = True)\n",
    "# print(df)\n"
   ]
  }
 ],
 "metadata": {
  "kernelspec": {
   "display_name": "base",
   "language": "python",
   "name": "python3"
  },
  "language_info": {
   "codemirror_mode": {
    "name": "ipython",
    "version": 3
   },
   "file_extension": ".py",
   "mimetype": "text/x-python",
   "name": "python",
   "nbconvert_exporter": "python",
   "pygments_lexer": "ipython3",
   "version": "3.10.6"
  }
 },
 "nbformat": 4,
 "nbformat_minor": 2
}
