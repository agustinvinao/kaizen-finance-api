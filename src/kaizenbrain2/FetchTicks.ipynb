{
 "cells": [
  {
   "cell_type": "code",
   "execution_count": 5,
   "metadata": {},
   "outputs": [],
   "source": [
    "# !pip3 install git+https://github.com/rongardF/tvdatafeed.git@e6f6aaa7de439ac6e454d9b26d2760ded8dc4923\n",
    "from tvDatafeed import TvDatafeed, Interval"
   ]
  },
  {
   "cell_type": "code",
   "execution_count": 6,
   "metadata": {},
   "outputs": [],
   "source": [
    "from helpers_db import get_engine, run_sql\n",
    "engine = get_engine()"
   ]
  },
  {
   "cell_type": "code",
   "execution_count": 7,
   "metadata": {},
   "outputs": [
    {
     "data": {
      "text/plain": [
       "[{'symbol': 'AAOI', 'exchange': 'NASDAQ', 'bars_w': 201, 'bars_d': 1337},\n",
       " {'symbol': 'AAPL', 'exchange': 'NASDAQ', 'bars_w': 127, 'bars_d': 819},\n",
       " {'symbol': 'ALB', 'exchange': 'NYSE', 'bars_w': 220, 'bars_d': 1470},\n",
       " {'symbol': 'BABA', 'exchange': 'NYSE', 'bars_w': 101, 'bars_d': 636},\n",
       " {'symbol': 'CI', 'exchange': 'NYSE', 'bars_w': 132, 'bars_d': 854},\n",
       " {'symbol': 'CLS', 'exchange': 'NYSE', 'bars_w': 222, 'bars_d': 1484},\n",
       " {'symbol': 'CRDF', 'exchange': 'NASDAQ', 'bars_w': 49, 'bars_d': 273},\n",
       " {'symbol': 'CSCO', 'exchange': 'NASDAQ', 'bars_w': 221, 'bars_d': 1477},\n",
       " {'symbol': 'DBK', 'exchange': 'XETR', 'bars_w': 122, 'bars_d': 784},\n",
       " {'symbol': 'ESEA', 'exchange': 'NASDAQ', 'bars_w': 142, 'bars_d': 924},\n",
       " {'symbol': 'GCT', 'exchange': 'NASDAQ', 'bars_w': 94, 'bars_d': 588},\n",
       " {'symbol': 'GOOG', 'exchange': 'NASDAQ', 'bars_w': 123, 'bars_d': 791},\n",
       " {'symbol': 'INMD', 'exchange': 'NASDAQ', 'bars_w': 238, 'bars_d': 1596},\n",
       " {'symbol': 'JPM', 'exchange': 'NYSE', 'bars_w': 137, 'bars_d': 889},\n",
       " {'symbol': 'KO', 'exchange': 'NYSE', 'bars_w': 111, 'bars_d': 707},\n",
       " {'symbol': 'LQQ', 'exchange': 'EURONEXT', 'bars_w': 133, 'bars_d': 861},\n",
       " {'symbol': 'META', 'exchange': 'NASDAQ', 'bars_w': 221, 'bars_d': 1477},\n",
       " {'symbol': 'MSFT', 'exchange': 'NASDAQ', 'bars_w': 133, 'bars_d': 861},\n",
       " {'symbol': 'NKTX', 'exchange': 'NASDAQ', 'bars_w': 112, 'bars_d': 717},\n",
       " {'symbol': 'NVDA', 'exchange': 'NASDAQ', 'bars_w': 133, 'bars_d': 861},\n",
       " {'symbol': 'ON', 'exchange': 'NASDAQ', 'bars_w': 127, 'bars_d': 819},\n",
       " {'symbol': 'PAYC', 'exchange': 'NYSE', 'bars_w': 136, 'bars_d': 882},\n",
       " {'symbol': 'PYPL', 'exchange': 'NASDAQ', 'bars_w': 95, 'bars_d': 595},\n",
       " {'symbol': 'SBUX', 'exchange': 'NASDAQ', 'bars_w': 151, 'bars_d': 987},\n",
       " {'symbol': 'SEDG', 'exchange': 'NASDAQ', 'bars_w': 133, 'bars_d': 861},\n",
       " {'symbol': 'T', 'exchange': 'NYSE', 'bars_w': 238, 'bars_d': 1596},\n",
       " {'symbol': 'WDAY', 'exchange': 'NASDAQ', 'bars_w': 134, 'bars_d': 868},\n",
       " {'symbol': 'HEI', 'exchange': 'NYSE', 'bars_w': 144, 'bars_d': 937},\n",
       " {'symbol': 'SURG', 'exchange': 'NASDAQ', 'bars_w': 126, 'bars_d': 812},\n",
       " {'symbol': 'MSTR', 'exchange': 'NASDAQ', 'bars_w': 23, 'bars_d': 90},\n",
       " {'symbol': 'AMZN', 'exchange': 'NASDAQ', 'bars_w': 171, 'bars_d': 1127}]"
      ]
     },
     "execution_count": 7,
     "metadata": {},
     "output_type": "execute_result"
    }
   ],
   "source": [
    "from helpers_queries import queries\n",
    "assets = None\n",
    "with engine.begin() as conn:\n",
    "  assets = run_sql(conn, queries['list_assets_longterm_bars']).mappings().all()\n",
    "assets"
   ]
  },
  {
   "cell_type": "code",
   "execution_count": 8,
   "metadata": {},
   "outputs": [
    {
     "name": "stderr",
     "output_type": "stream",
     "text": [
      "WARNING:tvDatafeed.main:you are using nologin method, data you access may be limited\n"
     ]
    },
    {
     "name": "stdout",
     "output_type": "stream",
     "text": [
      "Processing NASDAQ:AMZN\n",
      "  count: 171\n"
     ]
    }
   ],
   "source": [
    "from helpers_db import insert_on_conflict_nothing_ticks\n",
    "\n",
    "tv = TvDatafeed()\n",
    "\n",
    "def fetch_ticks(symbol, exchange, interval=Interval.in_daily, bars=100):\n",
    "  df = tv.get_hist(\n",
    "      symbol=symbol,\n",
    "      exchange=exchange,\n",
    "      interval=interval,\n",
    "      n_bars=bars,\n",
    "      extended_session=True,\n",
    "  )\n",
    "  return df\n",
    "\n",
    "def fix_symbol(eachange_symbol):\n",
    "  return eachange_symbol.split(':')[-1] if ':' in eachange_symbol else eachange_symbol\n",
    "\n",
    "def normalize_dataframe(df):\n",
    "  df.reset_index(inplace=True)\n",
    "  df['symbol'] = df['symbol'].apply(fix_symbol)\n",
    "  if 'datetime' in list(df.columns.values):\n",
    "    df['dt'] = df['datetime']\n",
    "    df.drop(columns=['datetime'], inplace=True)\n",
    "  return df\n",
    "\n",
    "# for asset in assets:\n",
    "symbol    = 'AMZN' # asset['symbol']\n",
    "exchange  = 'NASDAQ' # asset['exchange']\n",
    "table     = 'ticks_1w' # 'ticks_1d'\n",
    "print(f\"Processing {exchange}:{symbol}\")\n",
    "try:\n",
    "  bars      = 171 # 10 # asset['bars_d']\n",
    "  interval  = Interval.in_4_hour\n",
    "  df        = fetch_ticks(symbol=symbol, exchange=exchange, bars=bars, interval=interval) # 7*24\n",
    "  df        = normalize_dataframe(df)\n",
    "  df.to_sql(table, engine, if_exists='append', index=False, method=insert_on_conflict_nothing_ticks)\n",
    "  df.to_dict\n",
    "  # df.to_sql('ticks_1w', engine, if_exists='append', index=False, method=insert_on_conflict_nothing_ticks)\n",
    "  print(f\"  count: {df.shape[0]}\")\n",
    "except Exception as e:\n",
    "  print(f\"Exception {exchange}:{symbol}\")\n",
    "  print(str(e))\n"
   ]
  }
 ],
 "metadata": {
  "kernelspec": {
   "display_name": "base",
   "language": "python",
   "name": "python3"
  },
  "language_info": {
   "codemirror_mode": {
    "name": "ipython",
    "version": 3
   },
   "file_extension": ".py",
   "mimetype": "text/x-python",
   "name": "python",
   "nbconvert_exporter": "python",
   "pygments_lexer": "ipython3",
   "version": "3.10.6"
  }
 },
 "nbformat": 4,
 "nbformat_minor": 2
}
