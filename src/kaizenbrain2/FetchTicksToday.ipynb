{
 "cells": [
  {
   "cell_type": "code",
   "execution_count": 17,
   "metadata": {},
   "outputs": [],
   "source": [
    "# !pip3 install git+https://github.com/rongardF/tvdatafeed.git@e6f6aaa7de439ac6e454d9b26d2760ded8dc4923\n",
    "from tvDatafeed import TvDatafeed, Interval"
   ]
  },
  {
   "cell_type": "code",
   "execution_count": 18,
   "metadata": {},
   "outputs": [],
   "source": [
    "from helpers_db import get_engine, run_sql\n",
    "engine = get_engine()"
   ]
  },
  {
   "cell_type": "code",
   "execution_count": 19,
   "metadata": {},
   "outputs": [
    {
     "data": {
      "text/plain": [
       "[{'symbol': 'AAOI', 'exchange': 'NASDAQ', 'category': 'stock', 'bars_d': 1, 'bars_4h': 8034},\n",
       " {'symbol': 'AAPL', 'exchange': 'NASDAQ', 'category': 'stock', 'bars_d': 1, 'bars_4h': 4926},\n",
       " {'symbol': 'ALB', 'exchange': 'NYSE', 'category': 'stock', 'bars_d': 1, 'bars_4h': 8832},\n",
       " {'symbol': 'BABA', 'exchange': 'NYSE', 'category': 'stock', 'bars_d': 1, 'bars_4h': 3828},\n",
       " {'symbol': 'CI', 'exchange': 'NYSE', 'category': 'stock', 'bars_d': 1, 'bars_4h': 5136},\n",
       " {'symbol': 'CLS', 'exchange': 'NYSE', 'category': 'stock', 'bars_d': 1, 'bars_4h': 8916},\n",
       " {'symbol': 'CRDF', 'exchange': 'NASDAQ', 'category': 'stock', 'bars_d': 1, 'bars_4h': 1650},\n",
       " {'symbol': 'CSCO', 'exchange': 'NASDAQ', 'category': 'stock', 'bars_d': 1, 'bars_4h': 8874},\n",
       " {'symbol': 'DBK', 'exchange': 'XETR', 'category': 'stock', 'bars_d': 1, 'bars_4h': 4716},\n",
       " {'symbol': 'ESEA', 'exchange': 'NASDAQ', 'category': 'stock', 'bars_d': 1, 'bars_4h': 5556},\n",
       " {'symbol': 'GCT', 'exchange': 'NASDAQ', 'category': 'stock', 'bars_d': 1, 'bars_4h': 3540},\n",
       " {'symbol': 'GOOG', 'exchange': 'NASDAQ', 'category': 'stock', 'bars_d': 1, 'bars_4h': 4758},\n",
       " {'symbol': 'INMD', 'exchange': 'NASDAQ', 'category': 'stock', 'bars_d': 1, 'bars_4h': 9588},\n",
       " {'symbol': 'JPM', 'exchange': 'NYSE', 'category': 'stock', 'bars_d': 1, 'bars_4h': 5346},\n",
       " {'symbol': 'KO', 'exchange': 'NYSE', 'category': 'stock', 'bars_d': 1, 'bars_4h': 4254},\n",
       " {'symbol': 'LQQ', 'exchange': 'EURONEXT', 'category': 'stock', 'bars_d': 1, 'bars_4h': 5178},\n",
       " {'symbol': 'META', 'exchange': 'NASDAQ', 'category': 'stock', 'bars_d': 1, 'bars_4h': 8874},\n",
       " {'symbol': 'MSFT', 'exchange': 'NASDAQ', 'category': 'stock', 'bars_d': 1, 'bars_4h': 5178},\n",
       " {'symbol': 'NKTX', 'exchange': 'NASDAQ', 'category': 'stock', 'bars_d': 1, 'bars_4h': 4314},\n",
       " {'symbol': 'NVDA', 'exchange': 'NASDAQ', 'category': 'stock', 'bars_d': 1, 'bars_4h': 5178},\n",
       " {'symbol': 'ON', 'exchange': 'NASDAQ', 'category': 'stock', 'bars_d': 1, 'bars_4h': 4926},\n",
       " {'symbol': 'PAYC', 'exchange': 'NYSE', 'category': 'stock', 'bars_d': 1, 'bars_4h': 5304},\n",
       " {'symbol': 'PYPL', 'exchange': 'NASDAQ', 'category': 'stock', 'bars_d': 1, 'bars_4h': 3582},\n",
       " {'symbol': 'SBUX', 'exchange': 'NASDAQ', 'category': 'stock', 'bars_d': 1, 'bars_4h': 5934},\n",
       " {'symbol': 'SEDG', 'exchange': 'NASDAQ', 'category': 'stock', 'bars_d': 1, 'bars_4h': 5178},\n",
       " {'symbol': 'T', 'exchange': 'NYSE', 'category': 'stock', 'bars_d': 1, 'bars_4h': 9588},\n",
       " {'symbol': 'WDAY', 'exchange': 'NASDAQ', 'category': 'stock', 'bars_d': 1, 'bars_4h': 5220},\n",
       " {'symbol': 'HEI', 'exchange': 'NYSE', 'category': 'stock', 'bars_d': 1, 'bars_4h': 5634},\n",
       " {'symbol': 'SURG', 'exchange': 'NASDAQ', 'category': 'stock', 'bars_d': 1, 'bars_4h': 4884},\n",
       " {'symbol': 'MSTR', 'exchange': 'NASDAQ', 'category': 'stock', 'bars_d': 1, 'bars_4h': 552},\n",
       " {'symbol': 'AMZN', 'exchange': 'NASDAQ', 'category': 'stock', 'bars_d': 1, 'bars_4h': 6774}]"
      ]
     },
     "execution_count": 19,
     "metadata": {},
     "output_type": "execute_result"
    }
   ],
   "source": [
    "from helpers_queries import queries\n",
    "assets = None\n",
    "with engine.begin() as conn:\n",
    "  assets = run_sql(conn, queries['list_assets_today']).mappings().all()\n",
    "assets"
   ]
  },
  {
   "cell_type": "code",
   "execution_count": 20,
   "metadata": {},
   "outputs": [
    {
     "name": "stderr",
     "output_type": "stream",
     "text": [
      "WARNING:tvDatafeed.main:you are using nologin method, data you access may be limited\n"
     ]
    },
    {
     "name": "stdout",
     "output_type": "stream",
     "text": [
      "Assets count: 31\n",
      "Running table: ticks_1d Interval.in_daily bars_default: 10\n",
      "Processing NASDAQ:AAOI::10\n",
      "Processing NASDAQ:AAPL::10\n",
      "Processing NYSE:ALB::10\n",
      "Processing NYSE:BABA::10\n",
      "Processing NYSE:CI::10\n",
      "Processing NYSE:CLS::10\n",
      "Processing NASDAQ:CRDF::10\n",
      "Processing NASDAQ:CSCO::10\n",
      "Processing XETR:DBK::10\n",
      "Processing NASDAQ:ESEA::10\n",
      "Processing NASDAQ:GCT::10\n",
      "Processing NASDAQ:GOOG::10\n",
      "Processing NASDAQ:INMD::10\n",
      "Processing NYSE:JPM::10\n",
      "Processing NYSE:KO::10\n",
      "Processing EURONEXT:LQQ::10\n",
      "Processing NASDAQ:META::10\n",
      "Processing NASDAQ:MSFT::10\n",
      "Processing NASDAQ:NKTX::10\n",
      "Processing NASDAQ:NVDA::10\n",
      "Processing NASDAQ:ON::10\n",
      "Processing NYSE:PAYC::10\n",
      "Processing NASDAQ:PYPL::10\n",
      "Processing NASDAQ:SBUX::10\n",
      "Processing NASDAQ:SEDG::10\n",
      "Processing NYSE:T::10\n",
      "Processing NASDAQ:WDAY::10\n",
      "Processing NYSE:HEI::10\n",
      "Processing NASDAQ:SURG::10\n",
      "Processing NASDAQ:MSTR::10\n",
      "Processing NASDAQ:AMZN::10\n"
     ]
    }
   ],
   "source": [
    "from helpers_db import postgres_upsert\n",
    "\n",
    "tv = TvDatafeed()\n",
    "\n",
    "def fetch_ticks(symbol, exchange, interval=Interval.in_daily, bars=100, extended_session=True):\n",
    "  df = tv.get_hist(\n",
    "      symbol=symbol,\n",
    "      exchange=exchange,\n",
    "      interval=interval,\n",
    "      n_bars=bars,\n",
    "      extended_session=extended_session,\n",
    "  )\n",
    "  return df\n",
    "\n",
    "def fix_symbol(eachange_symbol):\n",
    "  return eachange_symbol.split(':')[-1] if ':' in eachange_symbol else eachange_symbol\n",
    "\n",
    "def normalize_dataframe(df):\n",
    "  df.reset_index(inplace=True)\n",
    "  df['symbol'] = df['symbol'].apply(fix_symbol)\n",
    "  if 'datetime' in list(df.columns.values):\n",
    "    df['dt'] = df['datetime']\n",
    "    df.drop(columns=['datetime'], inplace=True)\n",
    "  return df\n",
    "\n",
    "hourly  = {'interval': Interval.in_4_hour, 'bars': {'default': 10, 'query': False, 'field': 'bars_4h'}, 'table': 'ticks_4h', 'extended_session': True}\n",
    "daily   = {'interval': Interval.in_daily, 'bars': {'default': 10, 'query': False, 'field': 'bars_d'}, 'table': 'ticks_1d', 'extended_session': True}\n",
    "weekly  = {'interval': Interval.in_weekly, 'bars': {'default': 10, 'query': False, 'field': 'bars_w'}, 'table': 'ticks_1w', 'extended_session': True}\n",
    "period  = daily\n",
    "\n",
    "print(f\"Assets count: {len(assets)}\")\n",
    "print(f\"Running table: {period['table']} {period['interval']} bars_default: {period['bars']['default']}\")\n",
    "for asset in assets:\n",
    "  symbol      = asset['symbol']\n",
    "  exchange    = asset['exchange']\n",
    "  bars_count  = asset[period['bars']['field']] if period['bars']['query'] else period['bars']['default'] \n",
    "  try:\n",
    "    \n",
    "    bars = bars_count if period['bars']['query'] else period['bars']['default']\n",
    "    print(f\"Processing {exchange}:{symbol}::{bars_count}\")\n",
    "    df = fetch_ticks(symbol=symbol, exchange=exchange, bars=bars, interval=period['interval'], extended_session=period['extended_session'])\n",
    "    df = normalize_dataframe(df)\n",
    "    df.to_sql(period['table'], engine, if_exists='append', index=False, method=postgres_upsert)\n",
    "    \n",
    "  except Exception as e:\n",
    "    print(f\"Exception {exchange}:{symbol}\")\n",
    "    print(str(e))\n",
    "  # break\n"
   ]
  }
 ],
 "metadata": {
  "kernelspec": {
   "display_name": "base",
   "language": "python",
   "name": "python3"
  },
  "language_info": {
   "codemirror_mode": {
    "name": "ipython",
    "version": 3
   },
   "file_extension": ".py",
   "mimetype": "text/x-python",
   "name": "python",
   "nbconvert_exporter": "python",
   "pygments_lexer": "ipython3",
   "version": "3.10.6"
  }
 },
 "nbformat": 4,
 "nbformat_minor": 2
}
