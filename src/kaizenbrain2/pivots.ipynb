{
 "cells": [
  {
   "cell_type": "code",
   "execution_count": 1,
   "metadata": {},
   "outputs": [],
   "source": [
    "# !pip install line_profiler"
   ]
  },
  {
   "cell_type": "code",
   "execution_count": 2,
   "metadata": {},
   "outputs": [],
   "source": [
    "from collections import deque\n",
    "import numpy as np\n",
    "import pandas as pd\n",
    "import pandas_ta as ta"
   ]
  },
  {
   "cell_type": "code",
   "execution_count": 3,
   "metadata": {},
   "outputs": [],
   "source": [
    "from  helpers_db import get_engine, run_sql\n",
    "engine = get_engine()\n",
    "with engine.begin() as conn:\n",
    "  data = run_sql(conn, \"\"\"SELECT * FROM ticks_1w WHERE symbol='PYPL' ORDER BY dt\"\"\")\n",
    "  df = pd.DataFrame(data)\n",
    "  df.set_index(\"dt\", inplace = True)\n",
    "# print(df)"
   ]
  },
  {
   "cell_type": "code",
   "execution_count": 54,
   "metadata": {},
   "outputs": [
    {
     "ename": "KeyboardInterrupt",
     "evalue": "",
     "output_type": "error",
     "traceback": [
      "\u001b[0;31m---------------------------------------------------------------------------\u001b[0m",
      "\u001b[0;31mKeyboardInterrupt\u001b[0m                         Traceback (most recent call last)",
      "Cell \u001b[0;32mIn[54], line 78\u001b[0m\n\u001b[1;32m     74\u001b[0m         i \u001b[38;5;241m=\u001b[39m i \u001b[38;5;241m+\u001b[39m \u001b[38;5;241m1\u001b[39m\n\u001b[1;32m     76\u001b[0m     \u001b[38;5;28;01mreturn\u001b[39;00m data\n\u001b[0;32m---> 78\u001b[0m df_pivots \u001b[38;5;241m=\u001b[39m  \u001b[43mpivotPoints\u001b[49m\u001b[43m(\u001b[49m\u001b[43mpivot\u001b[49m\u001b[38;5;241;43m=\u001b[39;49m\u001b[38;5;241;43m11\u001b[39;49m\u001b[43m,\u001b[49m\u001b[43mdata\u001b[49m\u001b[38;5;241;43m=\u001b[39;49m\u001b[43mdf\u001b[49m\u001b[43m)\u001b[49m\n\u001b[1;32m     79\u001b[0m df[\u001b[38;5;124m'\u001b[39m\u001b[38;5;124mPH\u001b[39m\u001b[38;5;124m'\u001b[39m] \u001b[38;5;241m=\u001b[39m df_pivots[\u001b[38;5;124m'\u001b[39m\u001b[38;5;124mPH\u001b[39m\u001b[38;5;124m'\u001b[39m]\n\u001b[1;32m     80\u001b[0m df[\u001b[38;5;124m'\u001b[39m\u001b[38;5;124mPHV\u001b[39m\u001b[38;5;124m'\u001b[39m] \u001b[38;5;241m=\u001b[39m df_pivots[\u001b[38;5;124m'\u001b[39m\u001b[38;5;124mPHV\u001b[39m\u001b[38;5;124m'\u001b[39m]\n",
      "Cell \u001b[0;32mIn[54], line 58\u001b[0m, in \u001b[0;36mpivotPoints\u001b[0;34m(pivot, data)\u001b[0m\n\u001b[1;32m     56\u001b[0m \u001b[38;5;28;01mif\u001b[39;00m i \u001b[38;5;241m>\u001b[39m\u001b[38;5;241m=\u001b[39m win_size:\n\u001b[1;32m     57\u001b[0m     \u001b[38;5;28;01mif\u001b[39;00m i \u001b[38;5;129;01min\u001b[39;00m [\u001b[38;5;241m30\u001b[39m, \u001b[38;5;241m40\u001b[39m, \u001b[38;5;241m50\u001b[39m, \u001b[38;5;241m60\u001b[39m]:\n\u001b[0;32m---> 58\u001b[0m         \u001b[38;5;28;43mprint\u001b[39;49m(i)\n\u001b[1;32m     59\u001b[0m     j \u001b[38;5;241m+\u001b[39m\u001b[38;5;241m=\u001b[39m \u001b[38;5;241m1\u001b[39m\n\u001b[1;32m     60\u001b[0m     clean_deque(i, win_size, deqHigh, data, keyHigh, \u001b[38;5;28;01mTrue\u001b[39;00m)\n",
      "Cell \u001b[0;32mIn[54], line 58\u001b[0m, in \u001b[0;36mpivotPoints\u001b[0;34m(pivot, data)\u001b[0m\n\u001b[1;32m     56\u001b[0m \u001b[38;5;28;01mif\u001b[39;00m i \u001b[38;5;241m>\u001b[39m\u001b[38;5;241m=\u001b[39m win_size:\n\u001b[1;32m     57\u001b[0m     \u001b[38;5;28;01mif\u001b[39;00m i \u001b[38;5;129;01min\u001b[39;00m [\u001b[38;5;241m30\u001b[39m, \u001b[38;5;241m40\u001b[39m, \u001b[38;5;241m50\u001b[39m, \u001b[38;5;241m60\u001b[39m]:\n\u001b[0;32m---> 58\u001b[0m         \u001b[38;5;28;43mprint\u001b[39;49m(i)\n\u001b[1;32m     59\u001b[0m     j \u001b[38;5;241m+\u001b[39m\u001b[38;5;241m=\u001b[39m \u001b[38;5;241m1\u001b[39m\n\u001b[1;32m     60\u001b[0m     clean_deque(i, win_size, deqHigh, data, keyHigh, \u001b[38;5;28;01mTrue\u001b[39;00m)\n",
      "File \u001b[0;32m/opt/homebrew/Caskroom/miniforge/base/lib/python3.10/site-packages/debugpy/_vendored/pydevd/_pydevd_bundle/pydevd_frame.py:988\u001b[0m, in \u001b[0;36mPyDBFrame.trace_dispatch\u001b[0;34m(self, frame, event, arg)\u001b[0m\n\u001b[1;32m    986\u001b[0m \u001b[38;5;66;03m# if thread has a suspend flag, we suspend with a busy wait\u001b[39;00m\n\u001b[1;32m    987\u001b[0m \u001b[38;5;28;01mif\u001b[39;00m info\u001b[38;5;241m.\u001b[39mpydev_state \u001b[38;5;241m==\u001b[39m STATE_SUSPEND:\n\u001b[0;32m--> 988\u001b[0m     \u001b[38;5;28;43mself\u001b[39;49m\u001b[38;5;241;43m.\u001b[39;49m\u001b[43mdo_wait_suspend\u001b[49m\u001b[43m(\u001b[49m\u001b[43mthread\u001b[49m\u001b[43m,\u001b[49m\u001b[43m \u001b[49m\u001b[43mframe\u001b[49m\u001b[43m,\u001b[49m\u001b[43m \u001b[49m\u001b[43mevent\u001b[49m\u001b[43m,\u001b[49m\u001b[43m \u001b[49m\u001b[43marg\u001b[49m\u001b[43m)\u001b[49m\n\u001b[1;32m    989\u001b[0m     \u001b[38;5;28;01mreturn\u001b[39;00m \u001b[38;5;28mself\u001b[39m\u001b[38;5;241m.\u001b[39mtrace_dispatch\n\u001b[1;32m    990\u001b[0m \u001b[38;5;28;01melse\u001b[39;00m:\n",
      "File \u001b[0;32m/opt/homebrew/Caskroom/miniforge/base/lib/python3.10/site-packages/debugpy/_vendored/pydevd/_pydevd_bundle/pydevd_frame.py:165\u001b[0m, in \u001b[0;36mPyDBFrame.do_wait_suspend\u001b[0;34m(self, *args, **kwargs)\u001b[0m\n\u001b[1;32m    164\u001b[0m \u001b[38;5;28;01mdef\u001b[39;00m \u001b[38;5;21mdo_wait_suspend\u001b[39m(\u001b[38;5;28mself\u001b[39m, \u001b[38;5;241m*\u001b[39margs, \u001b[38;5;241m*\u001b[39m\u001b[38;5;241m*\u001b[39mkwargs):\n\u001b[0;32m--> 165\u001b[0m     \u001b[38;5;28;43mself\u001b[39;49m\u001b[38;5;241;43m.\u001b[39;49m\u001b[43m_args\u001b[49m\u001b[43m[\u001b[49m\u001b[38;5;241;43m0\u001b[39;49m\u001b[43m]\u001b[49m\u001b[38;5;241;43m.\u001b[39;49m\u001b[43mdo_wait_suspend\u001b[49m\u001b[43m(\u001b[49m\u001b[38;5;241;43m*\u001b[39;49m\u001b[43margs\u001b[49m\u001b[43m,\u001b[49m\u001b[43m \u001b[49m\u001b[38;5;241;43m*\u001b[39;49m\u001b[38;5;241;43m*\u001b[39;49m\u001b[43mkwargs\u001b[49m\u001b[43m)\u001b[49m\n",
      "File \u001b[0;32m/opt/homebrew/Caskroom/miniforge/base/lib/python3.10/site-packages/debugpy/_vendored/pydevd/pydevd.py:2067\u001b[0m, in \u001b[0;36mPyDB.do_wait_suspend\u001b[0;34m(self, thread, frame, event, arg, exception_type)\u001b[0m\n\u001b[1;32m   2064\u001b[0m             from_this_thread\u001b[38;5;241m.\u001b[39mappend(frame_custom_thread_id)\n\u001b[1;32m   2066\u001b[0m     \u001b[38;5;28;01mwith\u001b[39;00m \u001b[38;5;28mself\u001b[39m\u001b[38;5;241m.\u001b[39m_threads_suspended_single_notification\u001b[38;5;241m.\u001b[39mnotify_thread_suspended(thread_id, stop_reason):\n\u001b[0;32m-> 2067\u001b[0m         keep_suspended \u001b[38;5;241m=\u001b[39m \u001b[38;5;28;43mself\u001b[39;49m\u001b[38;5;241;43m.\u001b[39;49m\u001b[43m_do_wait_suspend\u001b[49m\u001b[43m(\u001b[49m\u001b[43mthread\u001b[49m\u001b[43m,\u001b[49m\u001b[43m \u001b[49m\u001b[43mframe\u001b[49m\u001b[43m,\u001b[49m\u001b[43m \u001b[49m\u001b[43mevent\u001b[49m\u001b[43m,\u001b[49m\u001b[43m \u001b[49m\u001b[43marg\u001b[49m\u001b[43m,\u001b[49m\u001b[43m \u001b[49m\u001b[43msuspend_type\u001b[49m\u001b[43m,\u001b[49m\u001b[43m \u001b[49m\u001b[43mfrom_this_thread\u001b[49m\u001b[43m,\u001b[49m\u001b[43m \u001b[49m\u001b[43mframes_tracker\u001b[49m\u001b[43m)\u001b[49m\n\u001b[1;32m   2069\u001b[0m frames_list \u001b[38;5;241m=\u001b[39m \u001b[38;5;28;01mNone\u001b[39;00m\n\u001b[1;32m   2071\u001b[0m \u001b[38;5;28;01mif\u001b[39;00m keep_suspended:\n\u001b[1;32m   2072\u001b[0m     \u001b[38;5;66;03m# This means that we should pause again after a set next statement.\u001b[39;00m\n",
      "File \u001b[0;32m/opt/homebrew/Caskroom/miniforge/base/lib/python3.10/site-packages/debugpy/_vendored/pydevd/pydevd.py:2103\u001b[0m, in \u001b[0;36mPyDB._do_wait_suspend\u001b[0;34m(self, thread, frame, event, arg, suspend_type, from_this_thread, frames_tracker)\u001b[0m\n\u001b[1;32m   2100\u001b[0m         \u001b[38;5;28mself\u001b[39m\u001b[38;5;241m.\u001b[39m_call_input_hook()\n\u001b[1;32m   2102\u001b[0m     \u001b[38;5;28mself\u001b[39m\u001b[38;5;241m.\u001b[39mprocess_internal_commands()\n\u001b[0;32m-> 2103\u001b[0m     \u001b[43mtime\u001b[49m\u001b[38;5;241;43m.\u001b[39;49m\u001b[43msleep\u001b[49m\u001b[43m(\u001b[49m\u001b[38;5;241;43m0.01\u001b[39;49m\u001b[43m)\u001b[49m\n\u001b[1;32m   2105\u001b[0m \u001b[38;5;28mself\u001b[39m\u001b[38;5;241m.\u001b[39mcancel_async_evaluation(get_current_thread_id(thread), \u001b[38;5;28mstr\u001b[39m(\u001b[38;5;28mid\u001b[39m(frame)))\n\u001b[1;32m   2107\u001b[0m \u001b[38;5;66;03m# process any stepping instructions\u001b[39;00m\n",
      "\u001b[0;31mKeyboardInterrupt\u001b[0m: "
     ]
    }
   ],
   "source": [
    "def debug_deque(df, deq, key):\n",
    "    vals = []\n",
    "    for item in reversed(deq):\n",
    "        vals.append(df.iloc[item][key])\n",
    "    return vals\n",
    "\n",
    "def clean_deque(i, k, deq, df, key, isHigh):\n",
    "    if deq and deq[0] == i - k:\n",
    "        deq.popleft()\n",
    "    if isHigh:\n",
    "        while deq and df.iloc[i][key] > df.iloc[deq[-1]][key]:\n",
    "            deq.pop()\n",
    "    else:\n",
    "        while deq and df.iloc[i][key] < df.iloc[deq[-1]][key]:\n",
    "            deq.pop()\n",
    "\n",
    "def pivotPoints(pivot=None,data=None):\n",
    "    \"\"\"\n",
    "    This function calculates the pivot points based on the pivot lenght.\n",
    "    These can be HH, LH , HL, LL values based on the adjacent pivots \n",
    "    which occur based on the length of the pivot.\n",
    "    \"\"\"\n",
    "\n",
    "    data['PH'] = False\n",
    "    data['PHV'] = np.NaN\n",
    "    data['PL'] = False\n",
    "    data['PLV'] = np.NaN\n",
    "    keyHigh = 'high'\n",
    "    keyLow = 'low'\n",
    "    win_size = pivot * 2 + 1\n",
    "    deqHigh = deque()\n",
    "    deqLow = deque()\n",
    "    max_idx = 0\n",
    "    min_idx = 0\n",
    "    i = 0\n",
    "    j = pivot\n",
    "    pivot_low = None\n",
    "    pivot_high = None\n",
    "    for index, row in data.iterrows():\n",
    "        if i in [10, 20, 30, 40, 50, 60]:\n",
    "            print(i)\n",
    "\n",
    "        if i < win_size:\n",
    "            clean_deque(i, win_size, deqHigh, data, keyHigh, True)\n",
    "            clean_deque(i, win_size, deqLow, data, keyLow, False)\n",
    "            deqHigh.append(i)\n",
    "            deqLow.append(i)\n",
    "            if data.iloc[i][keyHigh] > data.iloc[max_idx][keyHigh]:\n",
    "                max_idx = i\n",
    "            if data.iloc[i][keyLow] < data.iloc[min_idx][keyLow]:\n",
    "                min_idx = i\n",
    "            if i == win_size-1:\n",
    "                if data.iloc[max_idx][keyHigh] == data.iloc[j][keyHigh]:\n",
    "                    data.at[data.index[j], 'PH'] = True\n",
    "                    pivot_high = data.iloc[j][keyHigh]\n",
    "                if data.iloc[min_idx][keyLow] == data.iloc[j][keyLow]:\n",
    "                    data.at[data.index[j], 'PL'] = True\n",
    "                    pivot_low = data.iloc[j][keyLow]\n",
    "        if i >= win_size:\n",
    "            j += 1\n",
    "            clean_deque(i, win_size, deqHigh, data, keyHigh, True)\n",
    "            clean_deque(i, win_size, deqLow, data, keyLow, False)\n",
    "            deqHigh.append(i)\n",
    "            deqLow.append(i)\n",
    "            # pivot_val = data.iloc[deqHigh[0]][keyHigh]\n",
    "            if data.iloc[deqHigh[0]][keyHigh] == data.iloc[j][keyHigh]:\n",
    "                data.at[data.index[j], 'PH'] = True\n",
    "                pivot_high = data.iloc[j][keyHigh]\n",
    "            if data.iloc[deqLow[0]][keyLow] == data.iloc[j][keyLow]:\n",
    "                data.at[data.index[j], 'PL'] = True\n",
    "                pivot_low = data.iloc[j][keyLow]\n",
    "\n",
    "        data.at[data.index[j], 'PHV'] = pivot_high\n",
    "        data.at[data.index[j], 'PLV'] = pivot_low\n",
    "        i = i + 1\n",
    "\n",
    "    return data\n",
    "\n",
    "df_pivots =  pivotPoints(pivot=11,data=df)\n",
    "df['PH'] = df_pivots['PH']\n",
    "df['PHV'] = df_pivots['PHV']\n",
    "df['PL'] = df_pivots['PL']\n",
    "df['PLV'] = df_pivots['PLV']\n",
    "\n",
    "# df_pivots = df[(df.PH == True) | (df.PL == True)]\n",
    "\n",
    "# df_pivots.sort_values(by=[\"dt\"], ascending=False).head(20)\n",
    "df_pivots.head(40)\n",
    "\n"
   ]
  },
  {
   "cell_type": "code",
   "execution_count": 18,
   "metadata": {},
   "outputs": [
    {
     "data": {
      "text/plain": [
       "[42.55, 39.91, 39.69, 39, 38.52, 37.32, 36.95, 36.65, 36.58]"
      ]
     },
     "execution_count": 18,
     "metadata": {},
     "output_type": "execute_result"
    }
   ],
   "source": [
    "from typings import List\n",
    "values = [42.55,39.91,39.69,39,38.52,37.32,36.95,36.65,36.17,35.91]\n",
    "positions = [3,5,6,7,18,19,20,21,22,23]\n",
    "val = 36.58\n",
    "pos = 23\n",
    "\n",
    "def lifo_highest_checker(\n",
    "    values: List[float],\n",
    "    # positions: List[int],\n",
    "    value: float,\n",
    "    # position: int,\n",
    ") -> List[float|int]:\n",
    "  while values[-1] < val:\n",
    "    values.pop()\n",
    "    # positions.pop()\n",
    "  values.append(value)\n",
    "  # positions.append(position)\n",
    "  return values\n",
    "\n",
    "lifo_highest_checker(values, positions, val, pos)\n"
   ]
  },
  {
   "cell_type": "code",
   "execution_count": 40,
   "metadata": {},
   "outputs": [
    {
     "data": {
      "text/plain": [
       "[1, 3, 4, 5, 16, 17, 18, 19, 20, 21]"
      ]
     },
     "execution_count": 40,
     "metadata": {},
     "output_type": "execute_result"
    }
   ],
   "source": [
    "# from typings import list\n",
    "highest = [40.2,42.55,39.2,39.91,39.69,39,35.46,35.51,34.95,34.06,34.69,33.68,33.02,35.05,35.75,36.65,38.52,37.32,36.95,36.65,36.17,35.91]\n",
    "positions = [2,3,4,5,6,7,8,9,10,11,12,13,14,15,16,17,18,19,20,21,22,23]\n",
    "lowest = [35.5,36.91,36.22,38.43,37.01,33.83,30,33.41,32.61,32.55,33.1899,30.3,31.09,32.1,32.88,34.5,35.45,34.5,34.53,34.88,33.85,34.42]\n",
    "\n",
    "# def filter_highest(items: [float], is_high: bool) -> [float]:\n",
    "#   arr = []\n",
    "#   for item in items:\n",
    "#     if len(arr) > 0:\n",
    "#       if is_high:\n",
    "#         while len(arr) > 0 and item > arr[-1]:\n",
    "#           arr.pop()\n",
    "#       else:\n",
    "#         while len(arr) > 0 and item < arr[-1]:\n",
    "#           arr.pop()\n",
    "#     arr.append(item)\n",
    "#   return arr\n",
    "\n",
    "# # filter_highest(highest, True)\n",
    "# filter_highest(lowest, False)\n",
    "\n",
    "def filter_hhll_positions(items: [float], positions: [int], is_high: bool) -> [int]:\n",
    "  arr = []\n",
    "  arr_positions = []\n",
    "  for idx, item in enumerate(items):\n",
    "    if len(arr) > 0:\n",
    "      if is_high:\n",
    "        while len(arr) > 0 and item > arr[-1]:\n",
    "          arr.pop()\n",
    "          arr_positions.pop()\n",
    "      else:\n",
    "        while len(arr) > 0 and item < arr[-1]:\n",
    "          arr.pop()\n",
    "          arr_positions.pop()\n",
    "    arr.append(item)\n",
    "    arr_positions.append(idx)\n",
    "  return arr_positions\n",
    "\n",
    "filter_hhll_positions(highest, positions, True)\n"
   ]
  }
 ],
 "metadata": {
  "kernelspec": {
   "display_name": "base",
   "language": "python",
   "name": "python3"
  },
  "language_info": {
   "codemirror_mode": {
    "name": "ipython",
    "version": 3
   },
   "file_extension": ".py",
   "mimetype": "text/x-python",
   "name": "python",
   "nbconvert_exporter": "python",
   "pygments_lexer": "ipython3",
   "version": "3.10.6"
  }
 },
 "nbformat": 4,
 "nbformat_minor": 2
}
