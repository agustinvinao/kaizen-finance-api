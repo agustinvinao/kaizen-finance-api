{
 "cells": [
  {
   "cell_type": "code",
   "execution_count": 1,
   "metadata": {},
   "outputs": [],
   "source": [
    "from tvDatafeed import TvDatafeed, Interval"
   ]
  },
  {
   "cell_type": "code",
   "execution_count": 14,
   "metadata": {},
   "outputs": [],
   "source": [
    "# CONSTANTS\n",
    "timeframes = {\n",
    "  '4h': {\n",
    "    'interval': Interval.in_4_hour,\n",
    "    'table': 'ticks_4h',\n",
    "    'bars': 4 * 4 * 365\n",
    "  },\n",
    "  # '1d': {\n",
    "  #   'interval': Interval.in_daily,\n",
    "  #   'table': 'ticks_1d',\n",
    "  #   'bars': 5 * 365\n",
    "  # },\n",
    "  # '1w': {\n",
    "  #   'interval': Interval.in_weekly,\n",
    "  #   'table': 'ticks_1w',\n",
    "  #   'bars': (8 * 365) / 5\n",
    "  # }\n",
    "}\n",
    "\n",
    "# ASSET\n",
    "symbol    = 'DIS'\n",
    "exchange  = 'NYSE'"
   ]
  },
  {
   "cell_type": "code",
   "execution_count": 3,
   "metadata": {},
   "outputs": [],
   "source": [
    "from helpers_db import get_engine, run_sql\n",
    "\n",
    "engine = get_engine()\n",
    "\n",
    "def fetch_asset(conn, symbol):\n",
    "  return run_sql(conn, f\"\"\"SELECT * FROM assets WHERE symbol = '{symbol}' \"\"\").mappings().first()\n",
    "\n",
    "def insert_asset(conn, symbol, exchange):\n",
    "  run_sql(conn, f\"\"\"INSERT INTO assets (symbol, exchange, name) values ('{symbol}', '{exchange}', '{symbol}') \"\"\")\n",
    "  \n",
    "def fix_symbol(eachange_symbol):\n",
    "  return eachange_symbol.split(':')[-1] if ':' in eachange_symbol else eachange_symbol\n",
    "\n",
    "def normalize_dataframe(df):\n",
    "  df.reset_index(inplace=True)\n",
    "  df['symbol'] = df['symbol'].apply(fix_symbol)\n",
    "  if 'datetime' in list(df.columns.values):\n",
    "    df['dt'] = df['datetime']\n",
    "    df.drop(columns=['datetime'], inplace=True)\n",
    "  return df\n",
    "\n",
    "def fetch_ticks(tv, symbol, exchange, interval=Interval.in_daily, bars=100, extended_session=True):\n",
    "  df = tv.get_hist(\n",
    "      symbol=symbol,\n",
    "      exchange=exchange,\n",
    "      interval=interval,\n",
    "      n_bars=bars,\n",
    "      extended_session=extended_session,\n",
    "  )\n",
    "  return normalize_dataframe(df)"
   ]
  },
  {
   "cell_type": "markdown",
   "metadata": {},
   "source": [
    "# Check if the asset exists in KaizenBrain"
   ]
  },
  {
   "cell_type": "code",
   "execution_count": 4,
   "metadata": {},
   "outputs": [
    {
     "name": "stdout",
     "output_type": "stream",
     "text": [
      "{'symbol': 'DIS', 'name': 'DIS', 'exchange': 'NYSE', 'category': 'stock'}\n"
     ]
    }
   ],
   "source": [
    "with engine.begin() as conn:\n",
    "  asset = fetch_asset(conn, symbol)\n",
    "\n",
    "  # if not asset:\n",
    "  #   insert_asset(conn, symbol, exchange)\n",
    "  #   asset = fetch_asset(conn, symbol)\n",
    "  \n",
    "  print(asset)"
   ]
  },
  {
   "cell_type": "code",
   "execution_count": 13,
   "metadata": {},
   "outputs": [
    {
     "name": "stdout",
     "output_type": "stream",
     "text": [
      "{'4h': {'interval': <Interval.in_4_hour: '4H'>, 'table': 'ticks_4h', 'bars': 5840}, '1d': {'interval': <Interval.in_daily: '1D'>, 'table': 'ticks_1d', 'bars': 1825}, '1w': {'interval': <Interval.in_weekly: '1W'>, 'table': 'ticks_1w', 'bars': 584.0}}\n"
     ]
    }
   ],
   "source": [
    "print(timeframes)"
   ]
  },
  {
   "cell_type": "markdown",
   "metadata": {},
   "source": [
    "# Fetch 4h, 1D and 1W ticks"
   ]
  },
  {
   "cell_type": "code",
   "execution_count": 22,
   "metadata": {},
   "outputs": [
    {
     "name": "stderr",
     "output_type": "stream",
     "text": [
      "WARNING:tvDatafeed.main:you are using nologin method, data you access may be limited\n"
     ]
    },
    {
     "name": "stdout",
     "output_type": "stream",
     "text": [
      "Fetching:: DIS:NYSE Interval.in_4_hour 4\n",
      "  symbol    open    high     low   close    volume                        dt\n",
      "0    DIS  114.09  114.09  113.50  113.50    5503.0 2024-04-12 20:00:00+00:00\n",
      "1    DIS  114.03  114.57  113.50  114.46    5437.0 2024-04-15 08:00:00+00:00\n",
      "2    DIS  114.41  115.55  113.75  114.39  423632.0 2024-04-15 12:00:00+00:00\n",
      "3    DIS  114.38  114.58  112.56  113.06  297767.0 2024-04-15 16:00:00+00:00\n"
     ]
    }
   ],
   "source": [
    "from helpers_db import insert_on_conflict_nothing_ticks\n",
    "from datetime import timezone, datetime\n",
    "import pytz\n",
    "\n",
    "tv = TvDatafeed()\n",
    "my_timezone = pytz.timezone('Europe/Dublin')\n",
    "with engine.begin() as conn:\n",
    "  for key in timeframes.keys():\n",
    "    timeframe = timeframes[key]\n",
    "    bars      = 4 # int(timeframe['bars'])\n",
    "    interval  = timeframe['interval']\n",
    "    table     = timeframe['table']\n",
    "    print(f\"Fetching:: {symbol}:{exchange} {interval} {bars}\")\n",
    "    \n",
    "    df = fetch_ticks(tv, symbol=symbol, exchange=exchange, bars=bars, interval=interval) # 7*24\n",
    "    df['dt'] = df['dt'].dt.tz_localize(my_timezone)\n",
    "    df['dt'] = df['dt'].dt.tz_convert(timezone.utc)\n",
    "    print(df)\n",
    "\n",
    "    # print(f\"Inserting:: {symbol}:{exchange} into {table}\")\n",
    "    # df.to_sql(table, engine, if_exists='append', index=False, method=insert_on_conflict_nothing_ticks)\n",
    "  # df.to_sql('ticks_1w', engine, if_exists='append', index=False, method=insert_on_conflict_nothing_ticks)"
   ]
  }
 ],
 "metadata": {
  "kernelspec": {
   "display_name": "Python 3",
   "language": "python",
   "name": "python3"
  },
  "language_info": {
   "codemirror_mode": {
    "name": "ipython",
    "version": 3
   },
   "file_extension": ".py",
   "mimetype": "text/x-python",
   "name": "python",
   "nbconvert_exporter": "python",
   "pygments_lexer": "ipython3",
   "version": "3.10.6"
  }
 },
 "nbformat": 4,
 "nbformat_minor": 2
}
