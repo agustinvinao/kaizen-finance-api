{
 "cells": [
  {
   "cell_type": "code",
   "execution_count": 13,
   "metadata": {},
   "outputs": [],
   "source": [
    "import pandas as pd\n",
    "from  helpers_db import get_engine, run_sql\n",
    "from backtesting import Backtest, Strategy\n",
    "from sqlalchemy.sql import text"
   ]
  },
  {
   "cell_type": "code",
   "execution_count": 29,
   "metadata": {},
   "outputs": [
    {
     "name": "stdout",
     "output_type": "stream",
     "text": [
      "                              Close      High       Low      Open  \\\n",
      "datetime                                                            \n",
      "2024-01-01 00:00:00+00:00  0.596372  0.602324  0.591683  0.593873   \n",
      "2024-01-01 04:00:00+00:00  0.599317  0.599484  0.590758  0.595044   \n",
      "2024-01-01 08:00:00+00:00  0.603014  0.604108  0.597756  0.599316   \n",
      "2024-01-01 12:00:00+00:00  0.605802  0.606815  0.600569  0.603367   \n",
      "2024-01-01 16:00:00+00:00  0.618768  0.619151  0.602240  0.605850   \n",
      "...                             ...       ...       ...       ...   \n",
      "2024-04-13 17:00:00+00:00  0.451668  0.503959  0.439416  0.502804   \n",
      "2024-04-13 21:00:00+00:00  0.445144  0.454869  0.400001  0.451605   \n",
      "2024-04-14 01:00:00+00:00  0.446300  0.448764  0.433500  0.445726   \n",
      "2024-04-14 09:00:00+00:00  0.456652  0.472072  0.446660  0.446660   \n",
      "2024-04-14 13:00:00+00:00  0.466216  0.467358  0.456580  0.457425   \n",
      "\n",
      "                                 Volume  \n",
      "datetime                                 \n",
      "2024-01-01 00:00:00+00:00  5.294463e+05  \n",
      "2024-01-01 04:00:00+00:00  2.742726e+05  \n",
      "2024-01-01 08:00:00+00:00  3.587665e+05  \n",
      "2024-01-01 12:00:00+00:00  4.288380e+05  \n",
      "2024-01-01 16:00:00+00:00  2.173165e+06  \n",
      "...                                 ...  \n",
      "2024-04-13 17:00:00+00:00  6.317091e+06  \n",
      "2024-04-13 21:00:00+00:00  9.686233e+06  \n",
      "2024-04-14 01:00:00+00:00  1.122239e+06  \n",
      "2024-04-14 09:00:00+00:00  1.411295e+06  \n",
      "2024-04-14 13:00:00+00:00  1.961590e+05  \n",
      "\n",
      "[626 rows x 5 columns]\n"
     ]
    }
   ],
   "source": [
    "engine = get_engine()\n",
    "with engine.begin() as conn:\n",
    "  data = run_sql(conn, \"\"\"SELECT dt as datetime, open AS Open, close AS Close, high AS High, low AS Low, volume AS Volume\n",
    "                          FROM ticks_4h\n",
    "                          WHERE symbol ='ADAUSD' AND dt >= '2024-01-01'::DATE\n",
    "                          ORDER BY dt\"\"\")\n",
    "  df = pd.DataFrame(data)\n",
    "  df.set_index(\"datetime\", inplace = True)\n",
    "  df.rename(columns={\"close\": \"Close\", \"open\": \"Open\", \"low\": \"Low\", \"high\": \"High\", \"volume\": \"Volume\"}, inplace=True)\n",
    "print(df)"
   ]
  },
  {
   "cell_type": "code",
   "execution_count": 30,
   "metadata": {},
   "outputs": [
    {
     "name": "stderr",
     "output_type": "stream",
     "text": [
      "BokehDeprecationWarning: Passing lists of formats for DatetimeTickFormatter scales was deprecated in Bokeh 3.0. Configure a single string format for each scale\n",
      "/opt/homebrew/Caskroom/miniforge/base/lib/python3.10/site-packages/backtesting/_plotting.py:250: UserWarning: DatetimeFormatter scales now only accept a single format. Using the first provided: '%d %b'\n",
      "  formatter=DatetimeTickFormatter(days=['%d %b', '%a %d'],\n",
      "BokehDeprecationWarning: Passing lists of formats for DatetimeTickFormatter scales was deprecated in Bokeh 3.0. Configure a single string format for each scale\n",
      "/opt/homebrew/Caskroom/miniforge/base/lib/python3.10/site-packages/backtesting/_plotting.py:250: UserWarning: DatetimeFormatter scales now only accept a single format. Using the first provided: '%m/%Y'\n",
      "  formatter=DatetimeTickFormatter(days=['%d %b', '%a %d'],\n",
      "/opt/homebrew/Caskroom/miniforge/base/lib/python3.10/site-packages/backtesting/_plotting.py:659: UserWarning: found multiple competing values for 'toolbar.active_drag' property; using the latest value\n",
      "  fig = gridplot(\n",
      "/opt/homebrew/Caskroom/miniforge/base/lib/python3.10/site-packages/backtesting/_plotting.py:659: UserWarning: found multiple competing values for 'toolbar.active_scroll' property; using the latest value\n",
      "  fig = gridplot(\n"
     ]
    },
    {
     "name": "stdout",
     "output_type": "stream",
     "text": [
      "Start                     2024-01-01 00:00...\n",
      "End                       2024-04-14 13:00...\n",
      "Duration                    104 days 13:00:00\n",
      "Exposure Time [%]                   88.977636\n",
      "Equity Final [$]                 12979.545923\n",
      "Equity Peak [$]                   13206.33915\n",
      "Return [%]                          29.795459\n",
      "Buy & Hold Return [%]              -21.824633\n",
      "Return (Ann.) [%]                  147.577739\n",
      "Volatility (Ann.) [%]              203.810415\n",
      "Sharpe Ratio                         0.724093\n",
      "Sortino Ratio                        3.515924\n",
      "Calmar Ratio                         7.323765\n",
      "Max. Drawdown [%]                  -20.150529\n",
      "Avg. Drawdown [%]                   -8.541453\n",
      "Max. Drawdown Duration       32 days 00:00:00\n",
      "Avg. Drawdown Duration        7 days 17:00:00\n",
      "# Trades                                   12\n",
      "Win Rate [%]                        66.666667\n",
      "Best Trade [%]                      21.150943\n",
      "Worst Trade [%]                     -8.956109\n",
      "Avg. Trade [%]                         2.1971\n",
      "Max. Trade Duration          17 days 16:00:00\n",
      "Avg. Trade Duration           7 days 19:00:00\n",
      "Profit Factor                        1.971892\n",
      "Expectancy [%]                       2.599794\n",
      "SQN                                  0.877824\n",
      "_strategy                            SmaCross\n",
      "_equity_curve                             ...\n",
      "_trades                        Size  Entry...\n",
      "dtype: object\n"
     ]
    }
   ],
   "source": [
    "from backtesting import Backtest, Strategy\n",
    "# from backtesting.lib import crossover\n",
    "# from backtesting.test import SMA\n",
    "\n",
    "class SmaCross(Strategy):\n",
    "    n1 = 16\n",
    "    n2 = 64\n",
    "\n",
    "    # def init(self):\n",
    "    #     close = self.data.Close\n",
    "    #     # self.sma1 = self.I(SMA, close, self.n1)\n",
    "    #     # self.sma2 = self.I(SMA, close, self.n2)\n",
    "\n",
    "    def next(self):\n",
    "        if self.signal_buy:\n",
    "            self.buy()\n",
    "        if self.signal_sell:\n",
    "            self.sell()\n",
    "        # if crossover(self.sma1, self.sma2):\n",
    "        #     self.buy()\n",
    "        # elif crossover(self.sma2, self.sma1):\n",
    "        #     self.sell()\n",
    "\n",
    "\n",
    "bt = Backtest(df, SmaCross, cash=10000, commission=.002, exclusive_orders=True)\n",
    "\n",
    "output = bt.run()\n",
    "bt.plot()\n",
    "print(output)"
   ]
  }
 ],
 "metadata": {
  "kernelspec": {
   "display_name": "Python 3",
   "language": "python",
   "name": "python3"
  },
  "language_info": {
   "codemirror_mode": {
    "name": "ipython",
    "version": 3
   },
   "file_extension": ".py",
   "mimetype": "text/x-python",
   "name": "python",
   "nbconvert_exporter": "python",
   "pygments_lexer": "ipython3",
   "version": "3.10.6"
  }
 },
 "nbformat": 4,
 "nbformat_minor": 2
}
